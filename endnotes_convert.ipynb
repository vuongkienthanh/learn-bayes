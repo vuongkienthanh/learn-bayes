{
 "cells": [
  {
   "cell_type": "code",
   "execution_count": 1,
   "metadata": {},
   "outputs": [],
   "source": [
    "text = '''\n",
    "79. “How to Measure a Storm’s Fury One Breakfast at a Time.” The Wall Street Journal: September 1, 2011. [123]\n",
    "\n",
    "80. See Meehl (1990), in particular the “crud factor” described on page 204. [123]\n",
    "\n",
    "81. Debates about causal inference go back a long time. David Hume is key citation. One curious obstacle in modern statistics is that classic causal reasoning requires that if A causes B, then B will always appear when A appears. But with probabilistic relationships, like those described in most contemporary scientific models, it is unsurprising to talk about probabilistic causes, in which B only sometimes follows A. See http://plato.stanford.edu/entries/causation-probabilistic/. [124]\n",
    "\n",
    "82. See Pearl (2014) for an accessible introduction, with discussion. See also Rubin (2005) for a related approach. An important perspective missing in these is an emphasis on rigorous scientific models that make precise predictions. This tension builds throughout the book and asserts itself in Chapter 16. [124]\n",
    "\n",
    "83. See Freckleton (2002). [137]\n",
    "\n",
    "84. Data from Table 2 of Hinde and Milligan (2011). [144]\n",
    "\n",
    "85. See Decety et al. (2015) for the original and retraction notice. See Shariff et al. (2016) for the reanalysis. [153]\n",
    "\n",
    "86. See Gelman and Stern (2006) for further explanation, and see Nieuwenhuis et al. (2011) for some evidence of how commonly this mistake occurs. [158]\n",
    "'''"
   ]
  },
  {
   "cell_type": "code",
   "execution_count": 2,
   "metadata": {},
   "outputs": [],
   "source": [
    "text = [ x for x in text.splitlines() if x != '' ]"
   ]
  },
  {
   "cell_type": "code",
   "execution_count": 3,
   "metadata": {},
   "outputs": [
    {
     "data": {
      "text/plain": [
       "True"
      ]
     },
     "execution_count": 3,
     "metadata": {},
     "output_type": "execute_result"
    }
   ],
   "source": [
    "num = [n.split('.', maxsplit=1)[0] for n in text]\n",
    "txt = [n.split('.', maxsplit=1)[1].rsplit(\" \", 1)[0].strip() for n in text]\n",
    "(int(num[-1]) - int(num[0])) == len(num)-1"
   ]
  },
  {
   "cell_type": "code",
   "execution_count": 4,
   "metadata": {},
   "outputs": [
    {
     "name": "stdout",
     "output_type": "stream",
     "text": [
      "\n",
      "<details><summary>Endnotes</summary>\n",
      "<ol class=\"endnotes\">\n",
      "<li><a name=\"79\" href=\"#r79\">79. </a>“How to Measure a Storm’s Fury One Breakfast at a Time.” The Wall Street Journal: September 1, 2011.</li>\n",
      "<li><a name=\"80\" href=\"#r80\">80. </a>See Meehl (1990), in particular the “crud factor” described on page 204.</li>\n",
      "<li><a name=\"81\" href=\"#r81\">81. </a>Debates about causal inference go back a long time. David Hume is key citation. One curious obstacle in modern statistics is that classic causal reasoning requires that if A causes B, then B will always appear when A appears. But with probabilistic relationships, like those described in most contemporary scientific models, it is unsurprising to talk about probabilistic causes, in which B only sometimes follows A. See http://plato.stanford.edu/entries/causation-probabilistic/.</li>\n",
      "<li><a name=\"82\" href=\"#r82\">82. </a>See Pearl (2014) for an accessible introduction, with discussion. See also Rubin (2005) for a related approach. An important perspective missing in these is an emphasis on rigorous scientific models that make precise predictions. This tension builds throughout the book and asserts itself in Chapter 16.</li>\n",
      "<li><a name=\"83\" href=\"#r83\">83. </a>See Freckleton (2002).</li>\n",
      "<li><a name=\"84\" href=\"#r84\">84. </a>Data from Table 2 of Hinde and Milligan (2011).</li>\n",
      "<li><a name=\"85\" href=\"#r85\">85. </a>See Decety et al. (2015) for the original and retraction notice. See Shariff et al. (2016) for the reanalysis.</li>\n",
      "<li><a name=\"86\" href=\"#r86\">86. </a>See Gelman and Stern (2006) for further explanation, and see Nieuwenhuis et al. (2011) for some evidence of how commonly this mistake occurs.</li>\n",
      "</ol>\n",
      "</details>\n",
      "\n"
     ]
    }
   ],
   "source": [
    "print('''\n",
    "<details><summary>Endnotes</summary>\n",
    "<ol class=\"endnotes\">''')\n",
    "for t,n in zip(txt, num):\n",
    "    print( f'<li><a name=\"{n}\" href=\"#r{n}\">{n}. </a>{t}</li>' )\n",
    "print('''</ol>\n",
    "</details>\n",
    "''')"
   ]
  },
  {
   "cell_type": "code",
   "execution_count": 5,
   "metadata": {},
   "outputs": [
    {
     "name": "stdout",
     "output_type": "stream",
     "text": [
      "<sup><a name=\"r79\" href=\"#79\">79</a></sup>\n",
      "<sup><a name=\"r80\" href=\"#80\">80</a></sup>\n",
      "<sup><a name=\"r81\" href=\"#81\">81</a></sup>\n",
      "<sup><a name=\"r82\" href=\"#82\">82</a></sup>\n",
      "<sup><a name=\"r83\" href=\"#83\">83</a></sup>\n",
      "<sup><a name=\"r84\" href=\"#84\">84</a></sup>\n",
      "<sup><a name=\"r85\" href=\"#85\">85</a></sup>\n",
      "<sup><a name=\"r86\" href=\"#86\">86</a></sup>\n"
     ]
    }
   ],
   "source": [
    "for n in num:\n",
    "    print( f'<sup><a name=\"r{n}\" href=\"#{n}\">{n}</a></sup>' )"
   ]
  },
  {
   "cell_type": "markdown",
   "metadata": {},
   "source": [
    "---"
   ]
  },
  {
   "cell_type": "code",
   "execution_count": null,
   "metadata": {},
   "outputs": [],
   "source": []
  },
  {
   "cell_type": "code",
   "execution_count": null,
   "metadata": {},
   "outputs": [],
   "source": []
  }
 ],
 "metadata": {
  "kernelspec": {
   "display_name": "Python 3",
   "language": "python",
   "name": "python3"
  },
  "language_info": {
   "codemirror_mode": {
    "name": "ipython",
    "version": 3
   },
   "file_extension": ".py",
   "mimetype": "text/x-python",
   "name": "python",
   "nbconvert_exporter": "python",
   "pygments_lexer": "ipython3",
   "version": "3.8.0"
  }
 },
 "nbformat": 4,
 "nbformat_minor": 4
}
