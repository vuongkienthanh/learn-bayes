{
 "cells": [
  {
   "cell_type": "code",
   "execution_count": 6,
   "metadata": {},
   "outputs": [],
   "source": [
    "text = '''\n",
    "87. This example is joint work with Paul Smaldino. I think we sketched it on a napkin at a conference in Jena, Germany in 2017. [161]\n",
    "\n",
    "88. See Berkson (1946) A related phenomenon is range restriction that results from selection, which reduces the correlation between criteria and subsequent performance. This is one reason that standardized test scores do not correlate with success in school. They might also just not predict success at all. But even if they did, it’s not surprising that they are uncorrelated with success after selection. See Dawes (1975). [161]\n",
    "\n",
    "89. Rosenbaum (1984) calls it concomitant variable bias. See also Chapter 9 in Gelman and Hill (2007). There isn’t really any standard terminology for this issue. It is a component of generalized mediation analysis, and some fields discuss it under that banner. [170]\n",
    "\n",
    "90. See Pearl (2016), chapter 2. You’ll often see the “d” in d-separation defined as “dependency.” That would certainly make more sense. But the term d-separation comes from a more general theory of graphs. Directed graphs involve d-separation and undirected graphs involve instead u-separation. Anyway, if you want to call it “dependency separation,” I won’t mind. [174]\n",
    "\n",
    "91. Montgomery et al. (2018) found that almost half of experimental studies in three top Political Science journals conditioned on post-treatment variables, despite the fact that most political science programs warn against this. The paper contains a number of examples to help you think through post-treatment conditioning. [175]\n",
    "\n",
    "92. I learned this example from Dr. Julia Rohrer. See her 2017 blog post http://www.the100.ci/2017/04/21/whatsan-age-effect-net-of-all-time-varying-covariates/ as well as the papers Rohrer (2017) and Glenn (2009). [176]\n",
    "\n",
    "93. This example is from Breen (2018). [180]\n",
    "\n",
    "94. See Pearl (2014). [183]\n",
    "\n",
    "95. This definition is actually a little too narrow. Experimental manipulation is not required, just blocking of non-causal paths. [183]\n",
    "\n",
    "96. See Blom et al. (2018). [188]\n",
    "\n",
    "97. See Pearl (2000), as well as Pearl and MacKenzie (2018). [188]\n",
    "'''"
   ]
  },
  {
   "cell_type": "code",
   "execution_count": 7,
   "metadata": {},
   "outputs": [],
   "source": [
    "text = [ x for x in text.splitlines() if x != '' ]"
   ]
  },
  {
   "cell_type": "code",
   "execution_count": 8,
   "metadata": {},
   "outputs": [
    {
     "data": {
      "text/plain": [
       "True"
      ]
     },
     "execution_count": 8,
     "metadata": {},
     "output_type": "execute_result"
    }
   ],
   "source": [
    "num = [n.split('.', maxsplit=1)[0] for n in text]\n",
    "txt = [n.split('.', maxsplit=1)[1].rsplit(\" \", 1)[0].strip() for n in text]\n",
    "(int(num[-1]) - int(num[0])) == len(num)-1"
   ]
  },
  {
   "cell_type": "code",
   "execution_count": 9,
   "metadata": {},
   "outputs": [
    {
     "name": "stdout",
     "output_type": "stream",
     "text": [
      "\n",
      "<details><summary>Endnotes</summary>\n",
      "<ol class=\"endnotes\">\n",
      "<li><a name=\"87\" href=\"#r87\">87. </a>This example is joint work with Paul Smaldino. I think we sketched it on a napkin at a conference in Jena, Germany in 2017.</li>\n",
      "<li><a name=\"88\" href=\"#r88\">88. </a>See Berkson (1946) A related phenomenon is range restriction that results from selection, which reduces the correlation between criteria and subsequent performance. This is one reason that standardized test scores do not correlate with success in school. They might also just not predict success at all. But even if they did, it’s not surprising that they are uncorrelated with success after selection. See Dawes (1975).</li>\n",
      "<li><a name=\"89\" href=\"#r89\">89. </a>Rosenbaum (1984) calls it concomitant variable bias. See also Chapter 9 in Gelman and Hill (2007). There isn’t really any standard terminology for this issue. It is a component of generalized mediation analysis, and some fields discuss it under that banner.</li>\n",
      "<li><a name=\"90\" href=\"#r90\">90. </a>See Pearl (2016), chapter 2. You’ll often see the “d” in d-separation defined as “dependency.” That would certainly make more sense. But the term d-separation comes from a more general theory of graphs. Directed graphs involve d-separation and undirected graphs involve instead u-separation. Anyway, if you want to call it “dependency separation,” I won’t mind.</li>\n",
      "<li><a name=\"91\" href=\"#r91\">91. </a>Montgomery et al. (2018) found that almost half of experimental studies in three top Political Science journals conditioned on post-treatment variables, despite the fact that most political science programs warn against this. The paper contains a number of examples to help you think through post-treatment conditioning.</li>\n",
      "<li><a name=\"92\" href=\"#r92\">92. </a>I learned this example from Dr. Julia Rohrer. See her 2017 blog post http://www.the100.ci/2017/04/21/whatsan-age-effect-net-of-all-time-varying-covariates/ as well as the papers Rohrer (2017) and Glenn (2009).</li>\n",
      "<li><a name=\"93\" href=\"#r93\">93. </a>This example is from Breen (2018).</li>\n",
      "<li><a name=\"94\" href=\"#r94\">94. </a>See Pearl (2014).</li>\n",
      "<li><a name=\"95\" href=\"#r95\">95. </a>This definition is actually a little too narrow. Experimental manipulation is not required, just blocking of non-causal paths.</li>\n",
      "<li><a name=\"96\" href=\"#r96\">96. </a>See Blom et al. (2018).</li>\n",
      "<li><a name=\"97\" href=\"#r97\">97. </a>See Pearl (2000), as well as Pearl and MacKenzie (2018).</li>\n",
      "</ol>\n",
      "</details>\n",
      "\n"
     ]
    }
   ],
   "source": [
    "print('''\n",
    "<details><summary>Endnotes</summary>\n",
    "<ol class=\"endnotes\">''')\n",
    "for t,n in zip(txt, num):\n",
    "    print( f'<li><a name=\"{n}\" href=\"#r{n}\">{n}. </a>{t}</li>' )\n",
    "print('''</ol>\n",
    "</details>\n",
    "''')"
   ]
  },
  {
   "cell_type": "code",
   "execution_count": 10,
   "metadata": {},
   "outputs": [
    {
     "name": "stdout",
     "output_type": "stream",
     "text": [
      "<sup><a name=\"r87\" href=\"#87\">87</a></sup>\n",
      "<sup><a name=\"r88\" href=\"#88\">88</a></sup>\n",
      "<sup><a name=\"r89\" href=\"#89\">89</a></sup>\n",
      "<sup><a name=\"r90\" href=\"#90\">90</a></sup>\n",
      "<sup><a name=\"r91\" href=\"#91\">91</a></sup>\n",
      "<sup><a name=\"r92\" href=\"#92\">92</a></sup>\n",
      "<sup><a name=\"r93\" href=\"#93\">93</a></sup>\n",
      "<sup><a name=\"r94\" href=\"#94\">94</a></sup>\n",
      "<sup><a name=\"r95\" href=\"#95\">95</a></sup>\n",
      "<sup><a name=\"r96\" href=\"#96\">96</a></sup>\n",
      "<sup><a name=\"r97\" href=\"#97\">97</a></sup>\n"
     ]
    }
   ],
   "source": [
    "for n in num:\n",
    "    print( f'<sup><a name=\"r{n}\" href=\"#{n}\">{n}</a></sup>' )"
   ]
  },
  {
   "cell_type": "markdown",
   "metadata": {},
   "source": [
    "---"
   ]
  },
  {
   "cell_type": "code",
   "execution_count": null,
   "metadata": {},
   "outputs": [],
   "source": []
  },
  {
   "cell_type": "code",
   "execution_count": null,
   "metadata": {},
   "outputs": [],
   "source": []
  }
 ],
 "metadata": {
  "kernelspec": {
   "display_name": "Python 3",
   "language": "python",
   "name": "python3"
  },
  "language_info": {
   "codemirror_mode": {
    "name": "ipython",
    "version": 3
   },
   "file_extension": ".py",
   "mimetype": "text/x-python",
   "name": "python",
   "nbconvert_exporter": "python",
   "pygments_lexer": "ipython3",
   "version": "3.8.0"
  }
 },
 "nbformat": 4,
 "nbformat_minor": 4
}
