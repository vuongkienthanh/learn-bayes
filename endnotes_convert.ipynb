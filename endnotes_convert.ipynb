{
 "cells": [
  {
   "cell_type": "code",
   "execution_count": 1,
   "metadata": {},
   "outputs": [],
   "source": [
    "text = '''\n",
    "135. All manatee facts here taken from Lightsey et al. (2006); Rommel et al. (2007). Scar chart in figure from the free educational materials at http://www.learner.org/jnorth/tm/manatee/RollCall.html. [237]\n",
    "\n",
    "136. Wald (1943). See Mangel and Samaniego (1984) for a more accessible presentation and historical context. [237]\n",
    "\n",
    "137. Wald (1950). Wald’s foundational paper is Wald (1939). Fienberg (2006) is a highly recommended read for historical context. For more technical discussions, see Berger (1985), Robert (2007), and Jaynes (2003) page 406. [239]\n",
    "\n",
    "138. GDP is Gross Domestic Product. It’s the most common measure of economic performance, but also one of the silliest. Using GDP to measure the health of an economy is like using heat to measure the quality of a chemical reaction. [239]\n",
    "\n",
    "139. Riley et al. (1999). [239]\n",
    "\n",
    "140. From Nunn and Puga (2012). [242]\n",
    "\n",
    "141. A good example is the extensive modern tunnel system in the Faroe Islands. The natural geology of the islands is very rugged, such that it has historically been much easier to travel by water than by land. But in the late twentieth century, the Danish government invested heavily in tunnel construction, greatly reducing the effective ruggedness of the islands. [252]\n",
    "\n",
    "142. Modified example from Grafen and Hails (2002), which is a great non-Bayesian applied statistics book you might also enjoy. It has a rather unique geometric presentation of some of the standard linear models. [253]\n",
    "\n",
    "143. Data from Nettle (1998). [261]\n",
    "'''"
   ]
  },
  {
   "cell_type": "code",
   "execution_count": 2,
   "metadata": {},
   "outputs": [],
   "source": [
    "text = [ x for x in text.splitlines() if x != '' ]"
   ]
  },
  {
   "cell_type": "code",
   "execution_count": 3,
   "metadata": {},
   "outputs": [
    {
     "data": {
      "text/plain": [
       "True"
      ]
     },
     "execution_count": 3,
     "metadata": {},
     "output_type": "execute_result"
    }
   ],
   "source": [
    "num = [n.split('.', maxsplit=1)[0] for n in text]\n",
    "txt = [n.split('.', maxsplit=1)[1].rsplit(\" \", 1)[0].strip() for n in text]\n",
    "(int(num[-1]) - int(num[0])) == len(num)-1"
   ]
  },
  {
   "cell_type": "code",
   "execution_count": 4,
   "metadata": {},
   "outputs": [
    {
     "name": "stdout",
     "output_type": "stream",
     "text": [
      "\n",
      "<details><summary>Endnotes</summary>\n",
      "<ol class=\"endnotes\">\n",
      "<li><a name=\"135\" href=\"#r135\">135. </a>All manatee facts here taken from Lightsey et al. (2006); Rommel et al. (2007). Scar chart in figure from the free educational materials at http://www.learner.org/jnorth/tm/manatee/RollCall.html.</li>\n",
      "<li><a name=\"136\" href=\"#r136\">136. </a>Wald (1943). See Mangel and Samaniego (1984) for a more accessible presentation and historical context.</li>\n",
      "<li><a name=\"137\" href=\"#r137\">137. </a>Wald (1950). Wald’s foundational paper is Wald (1939). Fienberg (2006) is a highly recommended read for historical context. For more technical discussions, see Berger (1985), Robert (2007), and Jaynes (2003) page 406.</li>\n",
      "<li><a name=\"138\" href=\"#r138\">138. </a>GDP is Gross Domestic Product. It’s the most common measure of economic performance, but also one of the silliest. Using GDP to measure the health of an economy is like using heat to measure the quality of a chemical reaction.</li>\n",
      "<li><a name=\"139\" href=\"#r139\">139. </a>Riley et al. (1999).</li>\n",
      "<li><a name=\"140\" href=\"#r140\">140. </a>From Nunn and Puga (2012).</li>\n",
      "<li><a name=\"141\" href=\"#r141\">141. </a>A good example is the extensive modern tunnel system in the Faroe Islands. The natural geology of the islands is very rugged, such that it has historically been much easier to travel by water than by land. But in the late twentieth century, the Danish government invested heavily in tunnel construction, greatly reducing the effective ruggedness of the islands.</li>\n",
      "<li><a name=\"142\" href=\"#r142\">142. </a>Modified example from Grafen and Hails (2002), which is a great non-Bayesian applied statistics book you might also enjoy. It has a rather unique geometric presentation of some of the standard linear models.</li>\n",
      "<li><a name=\"143\" href=\"#r143\">143. </a>Data from Nettle (1998).</li>\n",
      "</ol>\n",
      "</details>\n",
      "\n"
     ]
    }
   ],
   "source": [
    "print('''\n",
    "<details><summary>Endnotes</summary>\n",
    "<ol class=\"endnotes\">''')\n",
    "for t,n in zip(txt, num):\n",
    "    print( f'<li><a name=\"{n}\" href=\"#r{n}\">{n}. </a>{t}</li>' )\n",
    "print('''</ol>\n",
    "</details>\n",
    "''')"
   ]
  },
  {
   "cell_type": "code",
   "execution_count": 5,
   "metadata": {},
   "outputs": [
    {
     "name": "stdout",
     "output_type": "stream",
     "text": [
      "<sup><a name=\"r135\" href=\"#135\">135</a></sup>\n",
      "<sup><a name=\"r136\" href=\"#136\">136</a></sup>\n",
      "<sup><a name=\"r137\" href=\"#137\">137</a></sup>\n",
      "<sup><a name=\"r138\" href=\"#138\">138</a></sup>\n",
      "<sup><a name=\"r139\" href=\"#139\">139</a></sup>\n",
      "<sup><a name=\"r140\" href=\"#140\">140</a></sup>\n",
      "<sup><a name=\"r141\" href=\"#141\">141</a></sup>\n",
      "<sup><a name=\"r142\" href=\"#142\">142</a></sup>\n",
      "<sup><a name=\"r143\" href=\"#143\">143</a></sup>\n"
     ]
    }
   ],
   "source": [
    "for n in num:\n",
    "    print( f'<sup><a name=\"r{n}\" href=\"#{n}\">{n}</a></sup>' )"
   ]
  },
  {
   "cell_type": "markdown",
   "metadata": {},
   "source": [
    "---"
   ]
  },
  {
   "cell_type": "code",
   "execution_count": null,
   "metadata": {},
   "outputs": [],
   "source": []
  },
  {
   "cell_type": "code",
   "execution_count": null,
   "metadata": {},
   "outputs": [],
   "source": []
  }
 ],
 "metadata": {
  "kernelspec": {
   "display_name": "Python 3",
   "language": "python",
   "name": "python3"
  },
  "language_info": {
   "codemirror_mode": {
    "name": "ipython",
    "version": 3
   },
   "file_extension": ".py",
   "mimetype": "text/x-python",
   "name": "python",
   "nbconvert_exporter": "python",
   "pygments_lexer": "ipython3",
   "version": "3.8.8"
  }
 },
 "nbformat": 4,
 "nbformat_minor": 4
}
