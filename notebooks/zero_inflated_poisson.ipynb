{
 "cells": [
  {
   "cell_type": "markdown",
   "id": "copyrighted-allen",
   "metadata": {},
   "source": [
    "# ZERO INFLATED MODEL\n",
    "Bs Vương Kiến Thanh\n",
    "\n",
    "## TỔNG QUAN\n",
    "Zero inflated model dùng để mô hình hoá dữ liệu mà trong đó dư thừa con số không. Chúng ta thường gặp nhất là dữ liệu số đếm dư thừa số không, các con số đếm đến từ các tiến trình Poisson, tạo thành phân phối Zero inflated Poisson.\n",
    "\n",
    "Cụ thể, tiến tình tạo ra con số không (zero) đến từ hai nguồn:\n",
    "1. Phân phối Bernoulli: tạo ra số 0 và 1.\n",
    "2. Phân phối Poisson: khi pp binom (trên) tạo ra 1, thì biến kết cục (outcome) cho zero. Còn khi pp binom tạo ra 0, thì nó đi tiếp đến pp Poisson và cho một số đếm bất kỳ (cũng có thể là zero hoặc cao hơn).\n",
    "\n",
    "Do đó, số không sẽ bị dư thừa (hay *zero inflated*).\n",
    "\n",
    "Định dạng toán học của Zero inflated Poisson model:\n",
    "\n",
    "$$ \\begin{aligned}\n",
    "y &\\sim \\text{ZeroInflatedPoisson}(p, \\lambda)\\\\\n",
    "\\text{logit}(p) &\\sim \\text{linear model 1}\\\\\n",
    "\\log(\\lambda) &\\sim \\text{linear model 2}\\\\\n",
    "\\end{aligned}$$\n",
    "\n",
    "Kết cục ($y$) có hàm khối xác suất (PMF):\n",
    "\n",
    "$$p(y_n \\mid p,\\lambda)\n",
    "=\n",
    "\\begin{cases}\n",
    "p + (1 - p) \\times \\textsf{Poisson}(0 \\mid \\lambda) & \\quad\\text{if } y_n = 0, \\text{ and}\\\\\n",
    "(1-p) \\times \\textsf{Poisson}(y_n \\mid \\lambda) &\\quad\\text{if } y_n > 0.\n",
    "\\end{cases}$$\n",
    "\n",
    "## Thực hành\n",
    "\n",
    "Source: https://stats.idre.ucla.edu/stata/dae/zero-inflated-poisson-regression/\n",
    "\n",
    "Chúng ta có 250 nhóm người vào câu cá. Mỗi nhóm được thu thập ý định câu cá (`nofish`), số cá họ thu được (`count`), số trẻ em trong nhóm (`child`), và số người trong nhóm (`persons`), và họ có cắm trại không (`camper`)."
   ]
  },
  {
   "cell_type": "code",
   "execution_count": 1,
   "id": "standard-vietnamese",
   "metadata": {},
   "outputs": [],
   "source": [
    "import arviz as az\n",
    "import matplotlib.pyplot as plt\n",
    "\n",
    "import pandas as pd\n",
    "import jax.numpy as jnp\n",
    "from jax import random, vmap\n",
    "from jax.scipy.special import expit\n",
    "\n",
    "import numpyro\n",
    "import numpyro.distributions as dist\n",
    "from numpyro.infer import Predictive, log_likelihood, MCMC, NUTS"
   ]
  },
  {
   "cell_type": "code",
   "execution_count": 2,
   "id": "acting-namibia",
   "metadata": {},
   "outputs": [
    {
     "data": {
      "text/html": [
       "<div>\n",
       "<style scoped>\n",
       "    .dataframe tbody tr th:only-of-type {\n",
       "        vertical-align: middle;\n",
       "    }\n",
       "\n",
       "    .dataframe tbody tr th {\n",
       "        vertical-align: top;\n",
       "    }\n",
       "\n",
       "    .dataframe thead th {\n",
       "        text-align: right;\n",
       "    }\n",
       "</style>\n",
       "<table border=\"1\" class=\"dataframe\">\n",
       "  <thead>\n",
       "    <tr style=\"text-align: right;\">\n",
       "      <th></th>\n",
       "      <th>nofish</th>\n",
       "      <th>livebait</th>\n",
       "      <th>camper</th>\n",
       "      <th>persons</th>\n",
       "      <th>child</th>\n",
       "      <th>xb</th>\n",
       "      <th>zg</th>\n",
       "      <th>count</th>\n",
       "    </tr>\n",
       "  </thead>\n",
       "  <tbody>\n",
       "    <tr>\n",
       "      <th>0</th>\n",
       "      <td>1</td>\n",
       "      <td>0</td>\n",
       "      <td>0</td>\n",
       "      <td>1</td>\n",
       "      <td>0</td>\n",
       "      <td>-0.896315</td>\n",
       "      <td>3.050405</td>\n",
       "      <td>0</td>\n",
       "    </tr>\n",
       "    <tr>\n",
       "      <th>1</th>\n",
       "      <td>0</td>\n",
       "      <td>1</td>\n",
       "      <td>1</td>\n",
       "      <td>1</td>\n",
       "      <td>0</td>\n",
       "      <td>-0.558345</td>\n",
       "      <td>1.746149</td>\n",
       "      <td>0</td>\n",
       "    </tr>\n",
       "    <tr>\n",
       "      <th>2</th>\n",
       "      <td>0</td>\n",
       "      <td>1</td>\n",
       "      <td>0</td>\n",
       "      <td>1</td>\n",
       "      <td>0</td>\n",
       "      <td>-0.401731</td>\n",
       "      <td>0.279939</td>\n",
       "      <td>0</td>\n",
       "    </tr>\n",
       "    <tr>\n",
       "      <th>3</th>\n",
       "      <td>0</td>\n",
       "      <td>1</td>\n",
       "      <td>1</td>\n",
       "      <td>2</td>\n",
       "      <td>1</td>\n",
       "      <td>-0.956298</td>\n",
       "      <td>-0.601526</td>\n",
       "      <td>0</td>\n",
       "    </tr>\n",
       "    <tr>\n",
       "      <th>4</th>\n",
       "      <td>0</td>\n",
       "      <td>1</td>\n",
       "      <td>0</td>\n",
       "      <td>1</td>\n",
       "      <td>0</td>\n",
       "      <td>0.436891</td>\n",
       "      <td>0.527709</td>\n",
       "      <td>1</td>\n",
       "    </tr>\n",
       "    <tr>\n",
       "      <th>...</th>\n",
       "      <td>...</td>\n",
       "      <td>...</td>\n",
       "      <td>...</td>\n",
       "      <td>...</td>\n",
       "      <td>...</td>\n",
       "      <td>...</td>\n",
       "      <td>...</td>\n",
       "      <td>...</td>\n",
       "    </tr>\n",
       "    <tr>\n",
       "      <th>245</th>\n",
       "      <td>1</td>\n",
       "      <td>1</td>\n",
       "      <td>1</td>\n",
       "      <td>2</td>\n",
       "      <td>0</td>\n",
       "      <td>-0.755236</td>\n",
       "      <td>2.324209</td>\n",
       "      <td>0</td>\n",
       "    </tr>\n",
       "    <tr>\n",
       "      <th>246</th>\n",
       "      <td>0</td>\n",
       "      <td>1</td>\n",
       "      <td>1</td>\n",
       "      <td>4</td>\n",
       "      <td>3</td>\n",
       "      <td>1.794859</td>\n",
       "      <td>-5.625944</td>\n",
       "      <td>0</td>\n",
       "    </tr>\n",
       "    <tr>\n",
       "      <th>247</th>\n",
       "      <td>0</td>\n",
       "      <td>1</td>\n",
       "      <td>1</td>\n",
       "      <td>2</td>\n",
       "      <td>1</td>\n",
       "      <td>-0.392649</td>\n",
       "      <td>0.677275</td>\n",
       "      <td>0</td>\n",
       "    </tr>\n",
       "    <tr>\n",
       "      <th>248</th>\n",
       "      <td>1</td>\n",
       "      <td>1</td>\n",
       "      <td>1</td>\n",
       "      <td>3</td>\n",
       "      <td>2</td>\n",
       "      <td>1.374641</td>\n",
       "      <td>-2.595630</td>\n",
       "      <td>0</td>\n",
       "    </tr>\n",
       "    <tr>\n",
       "      <th>249</th>\n",
       "      <td>1</td>\n",
       "      <td>1</td>\n",
       "      <td>1</td>\n",
       "      <td>2</td>\n",
       "      <td>1</td>\n",
       "      <td>0.828834</td>\n",
       "      <td>-1.457115</td>\n",
       "      <td>0</td>\n",
       "    </tr>\n",
       "  </tbody>\n",
       "</table>\n",
       "<p>250 rows × 8 columns</p>\n",
       "</div>"
      ],
      "text/plain": [
       "     nofish  livebait  camper  persons  child        xb        zg  count\n",
       "0         1         0       0        1      0 -0.896315  3.050405      0\n",
       "1         0         1       1        1      0 -0.558345  1.746149      0\n",
       "2         0         1       0        1      0 -0.401731  0.279939      0\n",
       "3         0         1       1        2      1 -0.956298 -0.601526      0\n",
       "4         0         1       0        1      0  0.436891  0.527709      1\n",
       "..      ...       ...     ...      ...    ...       ...       ...    ...\n",
       "245       1         1       1        2      0 -0.755236  2.324209      0\n",
       "246       0         1       1        4      3  1.794859 -5.625944      0\n",
       "247       0         1       1        2      1 -0.392649  0.677275      0\n",
       "248       1         1       1        3      2  1.374641 -2.595630      0\n",
       "249       1         1       1        2      1  0.828834 -1.457115      0\n",
       "\n",
       "[250 rows x 8 columns]"
      ]
     },
     "execution_count": 2,
     "metadata": {},
     "output_type": "execute_result"
    }
   ],
   "source": [
    "df = pd.read_csv('https://stats.idre.ucla.edu/stat/data/fish.csv')\n",
    "df"
   ]
  },
  {
   "cell_type": "code",
   "execution_count": 3,
   "id": "unnecessary-morgan",
   "metadata": {},
   "outputs": [],
   "source": [
    "# helper functions\n",
    "data_w = {\n",
    "    'nofish' :df['nofish'].values,\n",
    "    'camper' :df['camper'].values,\n",
    "    'persons':df['persons'].values,\n",
    "    'child'  :df['child'].values,\n",
    "    'count'  :df['count'].values\n",
    "}\n",
    "data_wo = {\n",
    "    'camper' :df['camper'].values,\n",
    "    'persons':df['persons'].values,\n",
    "    'child'  :df['child'].values,\n",
    "    'count'  :df['count'].values\n",
    "}\n",
    "pred_data_w = {\n",
    "    'nofish' :df['nofish'].values,\n",
    "    'camper' : df['camper'].values,\n",
    "    'persons':df['persons'].values,\n",
    "    'child'  :df['child'].values,\n",
    "}\n",
    "\n",
    "pred_data_wo = {\n",
    "    'camper' : df['camper'].values,\n",
    "    'persons':df['persons'].values,\n",
    "    'child'  :df['child'].values,\n",
    "}\n",
    "def plot_fit(model, w=True):\n",
    "    data = pred_data_w if w else pred_data_wo\n",
    "    pred = Predictive(\n",
    "        model.sampler.model,\n",
    "        model.get_samples())(random.PRNGKey(1), **data)\n",
    "    plt.hist(df['count'], bins=jnp.arange(30),label='real count')\n",
    "    plt.hist(jnp.mean(pred['count'],0), bins=jnp.arange(30), alpha=0.7,label=\"predicted count\")\n",
    "    plt.legend()"
   ]
  },
  {
   "cell_type": "markdown",
   "id": "after-swaziland",
   "metadata": {},
   "source": [
    "### Poisson\n",
    "Vì `count` là số đếm, nên chúng ta có thể dùng Poisson GLM, với các hiệp biến là: `nofish`, `camper`, `persons` và `child`."
   ]
  },
  {
   "cell_type": "code",
   "execution_count": 4,
   "id": "mathematical-pepper",
   "metadata": {},
   "outputs": [
    {
     "name": "stderr",
     "output_type": "stream",
     "text": [
      "sample: 100%|██████████| 2500/2500 [00:13<00:00, 181.41it/s, 31 steps of size 1.44e-01. acc. prob=0.95]\n",
      "sample: 100%|██████████| 2500/2500 [00:04<00:00, 537.52it/s, 31 steps of size 1.78e-01. acc. prob=0.94]\n",
      "sample: 100%|██████████| 2500/2500 [00:04<00:00, 517.45it/s, 31 steps of size 1.58e-01. acc. prob=0.94]\n",
      "sample: 100%|██████████| 2500/2500 [00:05<00:00, 499.34it/s, 31 steps of size 1.77e-01. acc. prob=0.93]\n"
     ]
    },
    {
     "name": "stdout",
     "output_type": "stream",
     "text": [
      "\n",
      "                mean       std    median      5.5%     94.5%     n_eff     r_hat\n",
      "         a     -1.64      0.15     -1.64     -1.88     -1.40   4478.89      1.00\n",
      "       bca      0.78      0.09      0.78      0.64      0.92   5251.64      1.00\n",
      "       bch     -1.69      0.08     -1.69     -1.82     -1.55   6063.04      1.00\n",
      "       bnf     -1.01      0.11     -1.00     -1.18     -0.84   6404.06      1.00\n",
      "       bpe      1.08      0.04      1.08      1.02      1.14   4903.19      1.00\n",
      "\n",
      "Number of divergences: 0\n"
     ]
    }
   ],
   "source": [
    "def model(nofish,camper, persons, child, count=None):\n",
    "    a = numpyro.sample(\"a\", dist.Normal(0, 1))\n",
    "    bnf = numpyro.sample(\"bnf\", dist.Normal(0,1))\n",
    "    bca = numpyro.sample(\"bca\", dist.Normal(0,1))\n",
    "    bpe = numpyro.sample('bpe', dist.Normal(0,1))\n",
    "    bch = numpyro.sample(\"bch\", dist.Normal(0,1))\n",
    "    lambda_ = jnp.exp(a + bnf*nofish + bca*camper + bpe*persons + bch*child)\n",
    "    numpyro.sample(\"count\", dist.Poisson(lambda_), obs=count)\n",
    "\n",
    "\n",
    "poisson = MCMC(NUTS(model), 500, 2000, num_chains=4, chain_method='sequential')\n",
    "poisson.run(random.PRNGKey(0),**data_w)\n",
    "poisson.print_summary(0.89)"
   ]
  },
  {
   "cell_type": "markdown",
   "id": "former-glossary",
   "metadata": {},
   "source": [
    "#### Kiểm tra fit"
   ]
  },
  {
   "cell_type": "code",
   "execution_count": 5,
   "id": "centered-singles",
   "metadata": {},
   "outputs": [
    {
     "data": {
      "image/png": "[encoded data removed]",
      "text/plain": [
       "<Figure size 432x288 with 1 Axes>"
      ]
     },
     "metadata": {
      "needs_background": "light"
     },
     "output_type": "display_data"
    }
   ],
   "source": [
    "plot_fit(poisson)"
   ]
  },
  {
   "cell_type": "markdown",
   "id": "assisted-skirt",
   "metadata": {},
   "source": [
    "Tuy nhiên, nhìn vào `real count`, ta thấy kết cục tập trung nhiều ở zero.\n",
    "\n",
    "Sự dư thừa zero này có thể do biến số *ý định đi câu cá* (`nofish`). Khi nhóm không có ý định câu cá, thì kết cục `count` là zero. Khi nhóm có ý định câu cá, thì họ có thể không câu được câu được một vài con.\n",
    "\n",
    "Nếu chúng ta có thêm biến *ý định đi câu cá*, tức là mô hình Poisson ở trên.\n",
    "\n",
    "Nhưng giả sử trong trường hợp chúng ta không có thu thập biến số đó. Thì Poisson không có biến đó sẽ có fit kém hơn:"
   ]
  },
  {
   "cell_type": "code",
   "execution_count": 6,
   "id": "talented-winter",
   "metadata": {},
   "outputs": [
    {
     "name": "stderr",
     "output_type": "stream",
     "text": [
      "sample: 100%|██████████| 2500/2500 [00:16<00:00, 148.79it/s, 15 steps of size 1.70e-01. acc. prob=0.94]\n",
      "sample: 100%|██████████| 2500/2500 [00:05<00:00, 478.02it/s, 31 steps of size 2.03e-01. acc. prob=0.92]\n",
      "sample: 100%|██████████| 2500/2500 [00:04<00:00, 559.60it/s, 31 steps of size 1.57e-01. acc. prob=0.94]\n",
      "sample: 100%|██████████| 2500/2500 [00:05<00:00, 491.94it/s, 15 steps of size 1.56e-01. acc. prob=0.94]\n"
     ]
    },
    {
     "name": "stdout",
     "output_type": "stream",
     "text": [
      "\n",
      "                mean       std    median      5.5%     94.5%     n_eff     r_hat\n",
      "         a     -1.93      0.15     -1.93     -2.17     -1.70   3427.81      1.00\n",
      "       bca      0.91      0.09      0.91      0.77      1.05   4621.03      1.00\n",
      "       bch     -1.68      0.08     -1.68     -1.81     -1.56   4945.21      1.00\n",
      "       bpe      1.08      0.04      1.08      1.02      1.14   3433.76      1.00\n",
      "\n",
      "Number of divergences: 0\n"
     ]
    }
   ],
   "source": [
    "def model(camper, persons, child, count=None):\n",
    "    a = numpyro.sample(\"a\", dist.Normal(0, 1))\n",
    "    bca = numpyro.sample(\"bca\", dist.Normal(0,1))\n",
    "    bpe = numpyro.sample('bpe', dist.Normal(0,1))\n",
    "    bch = numpyro.sample(\"bch\", dist.Normal(0,1))\n",
    "    lambda_ = jnp.exp(a + bca*camper + bpe*persons + bch*child)\n",
    "    numpyro.sample(\"count\", dist.Poisson(lambda_), obs=count)\n",
    "poisson_wo = MCMC(NUTS(model), 500, 2000, num_chains=4, chain_method='sequential')\n",
    "poisson_wo.run(random.PRNGKey(0),**data_wo)\n",
    "poisson_wo.print_summary(0.89)"
   ]
  },
  {
   "cell_type": "code",
   "execution_count": 7,
   "id": "educated-attempt",
   "metadata": {},
   "outputs": [
    {
     "data": {
      "image/png": "[encoded data removed]",
      "text/plain": [
       "<Figure size 432x288 with 1 Axes>"
      ]
     },
     "metadata": {
      "needs_background": "light"
     },
     "output_type": "display_data"
    }
   ],
   "source": [
    "plot_fit(poisson_wo, w=False)"
   ]
  },
  {
   "cell_type": "markdown",
   "id": "combined-ideal",
   "metadata": {},
   "source": [
    "### Zero inflated\n",
    "Một phương pháp dùng được trong trường hợp này là Zero inflated Poisson.\n",
    "\n",
    "Ở đây, mô hình là:\n",
    "\n",
    "$$ \\begin{aligned}\n",
    "y &\\sim \\text{ZeroInflatedPoisson}(p, \\lambda)\\\\\n",
    "\\text{logit}(p) &\\sim \\alpha\\\\\n",
    "\\log(\\lambda) &\\sim \\alpha + \\beta X && X = {\\text{persons, camper, child}}\\\\\n",
    "\\end{aligned}$$"
   ]
  },
  {
   "cell_type": "code",
   "execution_count": 8,
   "id": "exotic-hearing",
   "metadata": {},
   "outputs": [
    {
     "name": "stderr",
     "output_type": "stream",
     "text": [
      "sample: 100%|██████████| 2500/2500 [00:14<00:00, 174.44it/s, 31 steps of size 1.71e-01. acc. prob=0.91]\n",
      "sample: 100%|██████████| 2500/2500 [00:04<00:00, 540.78it/s, 7 steps of size 1.39e-01. acc. prob=0.94] \n",
      "sample: 100%|██████████| 2500/2500 [00:04<00:00, 542.01it/s, 15 steps of size 1.63e-01. acc. prob=0.91]\n",
      "sample: 100%|██████████| 2500/2500 [00:04<00:00, 521.47it/s, 15 steps of size 1.57e-01. acc. prob=0.94]\n"
     ]
    },
    {
     "name": "stdout",
     "output_type": "stream",
     "text": [
      "\n",
      "                mean       std    median      5.5%     94.5%     n_eff     r_hat\n",
      "        al     -0.97      0.17     -0.96     -1.22     -0.67   3547.21      1.00\n",
      "        ap     -0.35      0.18     -0.34     -0.61     -0.04   5350.88      1.00\n",
      "       bca      0.78      0.09      0.79      0.63      0.93   5399.49      1.00\n",
      "       bch     -1.35      0.10     -1.35     -1.50     -1.20   5365.93      1.00\n",
      "       bpe      0.86      0.04      0.86      0.79      0.93   3833.24      1.00\n",
      "\n",
      "Number of divergences: 0\n"
     ]
    }
   ],
   "source": [
    "def model(camper, persons, child, count=None):\n",
    "    ap = numpyro.sample(\"ap\", dist.Normal(0, 1))\n",
    "    p = expit(ap)\n",
    "    al = numpyro.sample(\"al\", dist.Normal(0, 1))\n",
    "    bpe = numpyro.sample(\"bpe\", dist.Normal(0, 1))\n",
    "    bca = numpyro.sample(\"bca\", dist.Normal(0,1))\n",
    "    bch = numpyro.sample(\"bch\", dist.Normal(0,1))\n",
    "    lambda_ = jnp.exp(al + bpe*persons + bca*camper + bch*child)\n",
    "    numpyro.sample(\"count\", dist.ZeroInflatedPoisson(p, lambda_), obs=count)\n",
    "inflated = MCMC(NUTS(model), 500, 2000, num_chains=4, chain_method='sequential')\n",
    "inflated.run(random.PRNGKey(2),**data_wo)\n",
    "inflated.print_summary(0.89)"
   ]
  },
  {
   "cell_type": "markdown",
   "id": "provincial-burst",
   "metadata": {},
   "source": [
    "#### Trả lời các câu hỏi:\n",
    "1. Xác suất không có ý định câu cá là:"
   ]
  },
  {
   "cell_type": "code",
   "execution_count": 9,
   "id": "mental-retirement",
   "metadata": {},
   "outputs": [
    {
     "data": {
      "text/plain": [
       "DeviceArray(0.41437423, dtype=float32)"
      ]
     },
     "execution_count": 9,
     "metadata": {},
     "output_type": "execute_result"
    }
   ],
   "source": [
    "expit(inflated.get_samples()['ap'].mean())"
   ]
  },
  {
   "cell_type": "markdown",
   "id": "agreed-while",
   "metadata": {},
   "source": [
    "2. Dự đoán ngược vào data (kiểm tra fit)"
   ]
  },
  {
   "cell_type": "code",
   "execution_count": 10,
   "id": "twelve-tampa",
   "metadata": {},
   "outputs": [
    {
     "data": {
      "image/png": "[encoded data removed]",
      "text/plain": [
       "<Figure size 432x288 with 1 Axes>"
      ]
     },
     "metadata": {
      "needs_background": "light"
     },
     "output_type": "display_data"
    }
   ],
   "source": [
    "plot_fit(inflated, w=False)"
   ]
  },
  {
   "cell_type": "markdown",
   "id": "grand-fishing",
   "metadata": {},
   "source": [
    "3. Diễn giải các hệ số beta thì khó hơn. Để minh hoạ hiệu ứng của số lượng trẻ em trong nhóm lên số cá câu được, chúng ta có thể đặt những hiệp biến khác bằng 0, và thử các giá trị của `child`."
   ]
  },
  {
   "cell_type": "code",
   "execution_count": 11,
   "id": "driven-looking",
   "metadata": {},
   "outputs": [
    {
     "data": {
      "image/png": "[encoded data removed]",
      "text/plain": [
       "<Figure size 432x288 with 1 Axes>"
      ]
     },
     "metadata": {
      "needs_background": "light"
     },
     "output_type": "display_data"
    }
   ],
   "source": [
    "lambdas = jnp.exp(jnp.outer(inflated.get_samples()['bch'], jnp.arange(4)))\n",
    "\n",
    "counts = numpyro.sample(\n",
    "    'count',\n",
    "    dist.Poisson(lambdas),\n",
    "    rng_key=random.PRNGKey(1)\n",
    ")\n",
    "means = jnp.mean(counts, axis=0)\n",
    "cis = jnp.quantile(counts, q=jnp.array([0.025,0.975]), axis=0)\n",
    "plt.bar(range(4), means, yerr=jnp.abs(cis-means))\n",
    "plt.gca().set(xticks=range(4), yticks=range(4),\n",
    "              xlabel='Số lượng trẻ em', ylabel='Số cá câu được',\n",
    "              title='Sau khi loại bỏ ảnh hưởng của các hiệp biến khác');"
   ]
  },
  {
   "cell_type": "markdown",
   "id": "adverse-personality",
   "metadata": {},
   "source": [
    "Như vậy, số lượng trẻ em tương quan âm với số cá câu được. Diễn giải các hiệp biến khác cũng có thể được thực hiện tương tự. "
   ]
  },
  {
   "cell_type": "markdown",
   "id": "ecological-bosnia",
   "metadata": {},
   "source": [
    "### So sánh các mô hình\n",
    "Tôi cũng fit thêm mô hình được dùng trong bài gốc ở trên:"
   ]
  },
  {
   "cell_type": "code",
   "execution_count": 12,
   "id": "actual-sending",
   "metadata": {},
   "outputs": [
    {
     "name": "stderr",
     "output_type": "stream",
     "text": [
      "sample: 100%|██████████| 2500/2500 [00:14<00:00, 176.20it/s, 15 steps of size 3.30e-01. acc. prob=0.91]\n",
      "sample: 100%|██████████| 2500/2500 [00:05<00:00, 488.63it/s, 3 steps of size 3.94e-01. acc. prob=0.92] \n",
      "sample: 100%|██████████| 2500/2500 [00:05<00:00, 416.82it/s, 15 steps of size 3.01e-01. acc. prob=0.93]\n",
      "sample: 100%|██████████| 2500/2500 [00:04<00:00, 550.78it/s, 15 steps of size 3.22e-01. acc. prob=0.95]\n"
     ]
    }
   ],
   "source": [
    "def model(camper, persons, child, count=None):\n",
    "    ap = numpyro.sample(\"ap\", dist.Normal(0, 1))\n",
    "    ape = numpyro.sample('ape', dist.Normal(0,1))\n",
    "    p = expit(ap + ape*persons)\n",
    "    al = numpyro.sample(\"al\", dist.Normal(0, 1))\n",
    "    aca = numpyro.sample(\"aca\", dist.Normal(0,1))\n",
    "    ach = numpyro.sample(\"ach\", dist.Normal(0,1))\n",
    "    lambda_ = jnp.exp(al + aca*camper  + ach*child)\n",
    "    numpyro.sample(\"count\", dist.Poisson(lambda_), obs=count)\n",
    "\n",
    "src = MCMC(NUTS(model), 500, 2000, num_chains=4, chain_method='sequential')\n",
    "src.run(random.PRNGKey(0),**data_wo)"
   ]
  },
  {
   "cell_type": "code",
   "execution_count": 13,
   "id": "educational-pollution",
   "metadata": {},
   "outputs": [
    {
     "name": "stderr",
     "output_type": "stream",
     "text": [
      "/Volumes/DATA/anaconda3/envs/jupyter/lib/python3.8/site-packages/arviz/stats/stats.py:146: UserWarning: The default method used to estimate the weights for each model,has changed from BB-pseudo-BMA to stacking\n",
      "  warnings.warn(\n",
      "/Volumes/DATA/anaconda3/envs/jupyter/lib/python3.8/site-packages/arviz/stats/stats.py:692: UserWarning: Estimated shape parameter of Pareto distribution is greater than 0.7 for one or more samples. You should consider using a more robust model, this is because importance sampling is less likely to work well if the marginal posterior and LOO posterior are very different. This is more likely to happen with a non-robust model and highly influential observations.\n",
      "  warnings.warn(\n",
      "/Volumes/DATA/anaconda3/envs/jupyter/lib/python3.8/site-packages/arviz/stats/stats.py:692: UserWarning: Estimated shape parameter of Pareto distribution is greater than 0.7 for one or more samples. You should consider using a more robust model, this is because importance sampling is less likely to work well if the marginal posterior and LOO posterior are very different. This is more likely to happen with a non-robust model and highly influential observations.\n",
      "  warnings.warn(\n",
      "/Volumes/DATA/anaconda3/envs/jupyter/lib/python3.8/site-packages/arviz/stats/stats.py:692: UserWarning: Estimated shape parameter of Pareto distribution is greater than 0.7 for one or more samples. You should consider using a more robust model, this is because importance sampling is less likely to work well if the marginal posterior and LOO posterior are very different. This is more likely to happen with a non-robust model and highly influential observations.\n",
      "  warnings.warn(\n",
      "/Volumes/DATA/anaconda3/envs/jupyter/lib/python3.8/site-packages/arviz/stats/stats.py:692: UserWarning: Estimated shape parameter of Pareto distribution is greater than 0.7 for one or more samples. You should consider using a more robust model, this is because importance sampling is less likely to work well if the marginal posterior and LOO posterior are very different. This is more likely to happen with a non-robust model and highly influential observations.\n",
      "  warnings.warn(\n"
     ]
    },
    {
     "data": {
      "text/html": [
       "<style  type=\"text/css\" >\n",
       "</style><table id=\"T_7017a164_78a8_11eb_acbc_a8667f380c73\" ><thead>    <tr>        <th class=\"blank level0\" ></th>        <th class=\"col_heading level0 col0\" >rank</th>        <th class=\"col_heading level0 col1\" >loo</th>        <th class=\"col_heading level0 col2\" >p_loo</th>        <th class=\"col_heading level0 col3\" >d_loo</th>        <th class=\"col_heading level0 col4\" >weight</th>        <th class=\"col_heading level0 col5\" >se</th>        <th class=\"col_heading level0 col6\" >dse</th>        <th class=\"col_heading level0 col7\" >warning</th>        <th class=\"col_heading level0 col8\" >loo_scale</th>    </tr></thead><tbody>\n",
       "                <tr>\n",
       "                        <th id=\"T_7017a164_78a8_11eb_acbc_a8667f380c73level0_row0\" class=\"row_heading level0 row0\" >inflated</th>\n",
       "                        <td id=\"T_7017a164_78a8_11eb_acbc_a8667f380c73row0_col0\" class=\"data row0 col0\" >0</td>\n",
       "                        <td id=\"T_7017a164_78a8_11eb_acbc_a8667f380c73row0_col1\" class=\"data row0 col1\" >-815.296</td>\n",
       "                        <td id=\"T_7017a164_78a8_11eb_acbc_a8667f380c73row0_col2\" class=\"data row0 col2\" >70.792</td>\n",
       "                        <td id=\"T_7017a164_78a8_11eb_acbc_a8667f380c73row0_col3\" class=\"data row0 col3\" >0.000</td>\n",
       "                        <td id=\"T_7017a164_78a8_11eb_acbc_a8667f380c73row0_col4\" class=\"data row0 col4\" >0.443</td>\n",
       "                        <td id=\"T_7017a164_78a8_11eb_acbc_a8667f380c73row0_col5\" class=\"data row0 col5\" >178.411</td>\n",
       "                        <td id=\"T_7017a164_78a8_11eb_acbc_a8667f380c73row0_col6\" class=\"data row0 col6\" >0.000</td>\n",
       "                        <td id=\"T_7017a164_78a8_11eb_acbc_a8667f380c73row0_col7\" class=\"data row0 col7\" >True</td>\n",
       "                        <td id=\"T_7017a164_78a8_11eb_acbc_a8667f380c73row0_col8\" class=\"data row0 col8\" >log</td>\n",
       "            </tr>\n",
       "            <tr>\n",
       "                        <th id=\"T_7017a164_78a8_11eb_acbc_a8667f380c73level0_row1\" class=\"row_heading level0 row1\" >poisson</th>\n",
       "                        <td id=\"T_7017a164_78a8_11eb_acbc_a8667f380c73row1_col0\" class=\"data row1 col0\" >1</td>\n",
       "                        <td id=\"T_7017a164_78a8_11eb_acbc_a8667f380c73row1_col1\" class=\"data row1 col1\" >-822.112</td>\n",
       "                        <td id=\"T_7017a164_78a8_11eb_acbc_a8667f380c73row1_col2\" class=\"data row1 col2\" >65.205</td>\n",
       "                        <td id=\"T_7017a164_78a8_11eb_acbc_a8667f380c73row1_col3\" class=\"data row1 col3\" >6.816</td>\n",
       "                        <td id=\"T_7017a164_78a8_11eb_acbc_a8667f380c73row1_col4\" class=\"data row1 col4\" >0.376</td>\n",
       "                        <td id=\"T_7017a164_78a8_11eb_acbc_a8667f380c73row1_col5\" class=\"data row1 col5\" >166.795</td>\n",
       "                        <td id=\"T_7017a164_78a8_11eb_acbc_a8667f380c73row1_col6\" class=\"data row1 col6\" >47.865</td>\n",
       "                        <td id=\"T_7017a164_78a8_11eb_acbc_a8667f380c73row1_col7\" class=\"data row1 col7\" >True</td>\n",
       "                        <td id=\"T_7017a164_78a8_11eb_acbc_a8667f380c73row1_col8\" class=\"data row1 col8\" >log</td>\n",
       "            </tr>\n",
       "            <tr>\n",
       "                        <th id=\"T_7017a164_78a8_11eb_acbc_a8667f380c73level0_row2\" class=\"row_heading level0 row2\" >poisson_wo</th>\n",
       "                        <td id=\"T_7017a164_78a8_11eb_acbc_a8667f380c73row2_col0\" class=\"data row2 col0\" >2</td>\n",
       "                        <td id=\"T_7017a164_78a8_11eb_acbc_a8667f380c73row2_col1\" class=\"data row2 col1\" >-873.365</td>\n",
       "                        <td id=\"T_7017a164_78a8_11eb_acbc_a8667f380c73row2_col2\" class=\"data row2 col2\" >63.637</td>\n",
       "                        <td id=\"T_7017a164_78a8_11eb_acbc_a8667f380c73row2_col3\" class=\"data row2 col3\" >58.068</td>\n",
       "                        <td id=\"T_7017a164_78a8_11eb_acbc_a8667f380c73row2_col4\" class=\"data row2 col4\" >0.000</td>\n",
       "                        <td id=\"T_7017a164_78a8_11eb_acbc_a8667f380c73row2_col5\" class=\"data row2 col5\" >186.088</td>\n",
       "                        <td id=\"T_7017a164_78a8_11eb_acbc_a8667f380c73row2_col6\" class=\"data row2 col6\" >27.287</td>\n",
       "                        <td id=\"T_7017a164_78a8_11eb_acbc_a8667f380c73row2_col7\" class=\"data row2 col7\" >True</td>\n",
       "                        <td id=\"T_7017a164_78a8_11eb_acbc_a8667f380c73row2_col8\" class=\"data row2 col8\" >log</td>\n",
       "            </tr>\n",
       "            <tr>\n",
       "                        <th id=\"T_7017a164_78a8_11eb_acbc_a8667f380c73level0_row3\" class=\"row_heading level0 row3\" >source</th>\n",
       "                        <td id=\"T_7017a164_78a8_11eb_acbc_a8667f380c73row3_col0\" class=\"data row3 col0\" >3</td>\n",
       "                        <td id=\"T_7017a164_78a8_11eb_acbc_a8667f380c73row3_col1\" class=\"data row3 col1\" >-1394.498</td>\n",
       "                        <td id=\"T_7017a164_78a8_11eb_acbc_a8667f380c73row3_col2\" class=\"data row3 col2\" >65.286</td>\n",
       "                        <td id=\"T_7017a164_78a8_11eb_acbc_a8667f380c73row3_col3\" class=\"data row3 col3\" >579.201</td>\n",
       "                        <td id=\"T_7017a164_78a8_11eb_acbc_a8667f380c73row3_col4\" class=\"data row3 col4\" >0.181</td>\n",
       "                        <td id=\"T_7017a164_78a8_11eb_acbc_a8667f380c73row3_col5\" class=\"data row3 col5\" >358.931</td>\n",
       "                        <td id=\"T_7017a164_78a8_11eb_acbc_a8667f380c73row3_col6\" class=\"data row3 col6\" >204.157</td>\n",
       "                        <td id=\"T_7017a164_78a8_11eb_acbc_a8667f380c73row3_col7\" class=\"data row3 col7\" >True</td>\n",
       "                        <td id=\"T_7017a164_78a8_11eb_acbc_a8667f380c73row3_col8\" class=\"data row3 col8\" >log</td>\n",
       "            </tr>\n",
       "    </tbody></table>"
      ],
      "text/plain": [
       "<pandas.io.formats.style.Styler at 0x7fb7fb5298e0>"
      ]
     },
     "execution_count": 13,
     "metadata": {},
     "output_type": "execute_result"
    }
   ],
   "source": [
    "azdata = az.from_numpyro(poisson)\n",
    "azdata2 = az.from_numpyro(poisson_wo)\n",
    "azdata3 = az.from_numpyro(inflated)\n",
    "azdata4 = az.from_numpyro(src)\n",
    "comp = az.compare({'poisson':azdata,\n",
    "                   'poisson_wo':azdata2,\n",
    "                   'inflated':azdata3,\n",
    "                   'source':azdata4})\n",
    "comp.style.set_precision(3)"
   ]
  },
  {
   "cell_type": "markdown",
   "id": "dressed-quebec",
   "metadata": {},
   "source": [
    "Ở đây, `loo` (leave-one-out cross validation, ước lượng bằng PSIS) cho rằng mô hình `inflated` là tốt nhất, rồi đến `poisson`, `poisson_wo`, `source`.\n",
    "\n",
    "Chú ý rằng chúng ta cần phải suy luận thêm khoảng tin cậy của `loo` thông qua `d_loo`, `se`, `dse`. Để minh hoạ rõ hơn:"
   ]
  },
  {
   "cell_type": "code",
   "execution_count": 14,
   "id": "electoral-retirement",
   "metadata": {},
   "outputs": [
    {
     "data": {
      "image/png": "[encoded data removed]",
      "text/plain": [
       "<Figure size 432x288 with 1 Axes>"
      ]
     },
     "metadata": {
      "needs_background": "light"
     },
     "output_type": "display_data"
    }
   ],
   "source": [
    "az.plot_compare(comp);"
   ]
  },
  {
   "cell_type": "markdown",
   "id": "photographic-delay",
   "metadata": {},
   "source": [
    "Mặc dù `inflated` là mô hình tốt nhất, nhưng nó khác biệt không có ý nghĩa so với `poisson`, `poisson_wo`. Mô hình `source` kém nhất và khác xa với 3 mô hình trên. Sự khác biệt không có ý nghĩa giữa mô hình `inflated` (không có biến `nofish`) và mô hình `poisson` (có `nofish`) nói lên sức mạnh của zero inflated poisson."
   ]
  },
  {
   "cell_type": "markdown",
   "id": "atlantic-contributor",
   "metadata": {},
   "source": [
    "### Outliers\n",
    "Khác với các tiếp cận tìm outlier khác, `loo` cho phép chúng ta tìm ra những điểm dữ liệu nào có ảnh hưởng lớn đến suy luận sau khi đã fit mô hình vào data."
   ]
  },
  {
   "cell_type": "code",
   "execution_count": 15,
   "id": "ahead-appeal",
   "metadata": {},
   "outputs": [
    {
     "name": "stderr",
     "output_type": "stream",
     "text": [
      "/Volumes/DATA/anaconda3/envs/jupyter/lib/python3.8/site-packages/arviz/stats/stats.py:692: UserWarning: Estimated shape parameter of Pareto distribution is greater than 0.7 for one or more samples. You should consider using a more robust model, this is because importance sampling is less likely to work well if the marginal posterior and LOO posterior are very different. This is more likely to happen with a non-robust model and highly influential observations.\n",
      "  warnings.warn(\n",
      "/Volumes/DATA/anaconda3/envs/jupyter/lib/python3.8/site-packages/arviz/stats/stats.py:692: UserWarning: Estimated shape parameter of Pareto distribution is greater than 0.7 for one or more samples. You should consider using a more robust model, this is because importance sampling is less likely to work well if the marginal posterior and LOO posterior are very different. This is more likely to happen with a non-robust model and highly influential observations.\n",
      "  warnings.warn(\n",
      "/Volumes/DATA/anaconda3/envs/jupyter/lib/python3.8/site-packages/arviz/stats/stats.py:692: UserWarning: Estimated shape parameter of Pareto distribution is greater than 0.7 for one or more samples. You should consider using a more robust model, this is because importance sampling is less likely to work well if the marginal posterior and LOO posterior are very different. This is more likely to happen with a non-robust model and highly influential observations.\n",
      "  warnings.warn(\n"
     ]
    },
    {
     "data": {
      "text/html": [
       "<div>\n",
       "<style scoped>\n",
       "    .dataframe tbody tr th:only-of-type {\n",
       "        vertical-align: middle;\n",
       "    }\n",
       "\n",
       "    .dataframe tbody tr th {\n",
       "        vertical-align: top;\n",
       "    }\n",
       "\n",
       "    .dataframe thead th {\n",
       "        text-align: right;\n",
       "    }\n",
       "</style>\n",
       "<table border=\"1\" class=\"dataframe\">\n",
       "  <thead>\n",
       "    <tr style=\"text-align: right;\">\n",
       "      <th></th>\n",
       "      <th>nofish</th>\n",
       "      <th>livebait</th>\n",
       "      <th>camper</th>\n",
       "      <th>persons</th>\n",
       "      <th>child</th>\n",
       "      <th>xb</th>\n",
       "      <th>zg</th>\n",
       "      <th>count</th>\n",
       "    </tr>\n",
       "  </thead>\n",
       "  <tbody>\n",
       "    <tr>\n",
       "      <th>88</th>\n",
       "      <td>0</td>\n",
       "      <td>1</td>\n",
       "      <td>1</td>\n",
       "      <td>4</td>\n",
       "      <td>0</td>\n",
       "      <td>5.005040</td>\n",
       "      <td>3.572134</td>\n",
       "      <td>149</td>\n",
       "    </tr>\n",
       "    <tr>\n",
       "      <th>137</th>\n",
       "      <td>0</td>\n",
       "      <td>1</td>\n",
       "      <td>0</td>\n",
       "      <td>3</td>\n",
       "      <td>1</td>\n",
       "      <td>3.726073</td>\n",
       "      <td>0.701675</td>\n",
       "      <td>31</td>\n",
       "    </tr>\n",
       "    <tr>\n",
       "      <th>178</th>\n",
       "      <td>1</td>\n",
       "      <td>1</td>\n",
       "      <td>1</td>\n",
       "      <td>2</td>\n",
       "      <td>0</td>\n",
       "      <td>3.053917</td>\n",
       "      <td>2.469108</td>\n",
       "      <td>21</td>\n",
       "    </tr>\n",
       "  </tbody>\n",
       "</table>\n",
       "</div>"
      ],
      "text/plain": [
       "     nofish  livebait  camper  persons  child        xb        zg  count\n",
       "88        0         1       1        4      0  5.005040  3.572134    149\n",
       "137       0         1       0        3      1  3.726073  0.701675     31\n",
       "178       1         1       1        2      0  3.053917  2.469108     21"
      ]
     },
     "execution_count": 15,
     "metadata": {},
     "output_type": "execute_result"
    }
   ],
   "source": [
    "loo = az.loo(azdata, pointwise=True)\n",
    "loo2 = az.loo(azdata2, pointwise=True)\n",
    "loo3 = az.loo(azdata3, pointwise=True)\n",
    "pd.concat([\n",
    "    df.iloc[loo.pareto_k.data>0.7],\n",
    "    df.iloc[loo2.pareto_k.data>0.7],\n",
    "    df.iloc[loo3.pareto_k.data>0.7]\n",
    "]).drop_duplicates()"
   ]
  },
  {
   "cell_type": "markdown",
   "id": "behind-serbia",
   "metadata": {},
   "source": [
    "Thực vậy, dữ liệu ở dòng 88 cho số lượng cá câu được rất cao một cách ngạc nhiên. Điểm dữ liệu dòng 137 có thể do `camper=0` mà lại có `count` lớn. Điểm dữ liệu dòng 178 có thể do `nofish=1` mà lại có `count` lớn. Chúng ta có thể cảm nhận gián tiếp bằng trực quan qua:"
   ]
  },
  {
   "cell_type": "code",
   "execution_count": 16,
   "id": "ambient-compromise",
   "metadata": {},
   "outputs": [
    {
     "data": {
      "text/html": [
       "<div>\n",
       "<style scoped>\n",
       "    .dataframe tbody tr th:only-of-type {\n",
       "        vertical-align: middle;\n",
       "    }\n",
       "\n",
       "    .dataframe tbody tr th {\n",
       "        vertical-align: top;\n",
       "    }\n",
       "\n",
       "    .dataframe thead th {\n",
       "        text-align: right;\n",
       "    }\n",
       "</style>\n",
       "<table border=\"1\" class=\"dataframe\">\n",
       "  <thead>\n",
       "    <tr style=\"text-align: right;\">\n",
       "      <th></th>\n",
       "      <th>nofish</th>\n",
       "      <th>livebait</th>\n",
       "      <th>camper</th>\n",
       "      <th>persons</th>\n",
       "      <th>child</th>\n",
       "      <th>xb</th>\n",
       "      <th>zg</th>\n",
       "      <th>count</th>\n",
       "    </tr>\n",
       "  </thead>\n",
       "  <tbody>\n",
       "    <tr>\n",
       "      <th>24</th>\n",
       "      <td>0</td>\n",
       "      <td>1</td>\n",
       "      <td>1</td>\n",
       "      <td>3</td>\n",
       "      <td>0</td>\n",
       "      <td>3.500298</td>\n",
       "      <td>1.451271</td>\n",
       "      <td>30</td>\n",
       "    </tr>\n",
       "    <tr>\n",
       "      <th>41</th>\n",
       "      <td>0</td>\n",
       "      <td>1</td>\n",
       "      <td>1</td>\n",
       "      <td>4</td>\n",
       "      <td>0</td>\n",
       "      <td>3.484046</td>\n",
       "      <td>2.355653</td>\n",
       "      <td>32</td>\n",
       "    </tr>\n",
       "    <tr>\n",
       "      <th>52</th>\n",
       "      <td>0</td>\n",
       "      <td>1</td>\n",
       "      <td>1</td>\n",
       "      <td>4</td>\n",
       "      <td>0</td>\n",
       "      <td>3.196706</td>\n",
       "      <td>1.515483</td>\n",
       "      <td>22</td>\n",
       "    </tr>\n",
       "    <tr>\n",
       "      <th>63</th>\n",
       "      <td>0</td>\n",
       "      <td>1</td>\n",
       "      <td>1</td>\n",
       "      <td>4</td>\n",
       "      <td>0</td>\n",
       "      <td>3.489336</td>\n",
       "      <td>2.547997</td>\n",
       "      <td>32</td>\n",
       "    </tr>\n",
       "    <tr>\n",
       "      <th>88</th>\n",
       "      <td>0</td>\n",
       "      <td>1</td>\n",
       "      <td>1</td>\n",
       "      <td>4</td>\n",
       "      <td>0</td>\n",
       "      <td>5.005040</td>\n",
       "      <td>3.572134</td>\n",
       "      <td>149</td>\n",
       "    </tr>\n",
       "    <tr>\n",
       "      <th>99</th>\n",
       "      <td>0</td>\n",
       "      <td>1</td>\n",
       "      <td>0</td>\n",
       "      <td>4</td>\n",
       "      <td>0</td>\n",
       "      <td>3.594677</td>\n",
       "      <td>0.860209</td>\n",
       "      <td>29</td>\n",
       "    </tr>\n",
       "    <tr>\n",
       "      <th>137</th>\n",
       "      <td>0</td>\n",
       "      <td>1</td>\n",
       "      <td>0</td>\n",
       "      <td>3</td>\n",
       "      <td>1</td>\n",
       "      <td>3.726073</td>\n",
       "      <td>0.701675</td>\n",
       "      <td>31</td>\n",
       "    </tr>\n",
       "    <tr>\n",
       "      <th>159</th>\n",
       "      <td>0</td>\n",
       "      <td>1</td>\n",
       "      <td>1</td>\n",
       "      <td>4</td>\n",
       "      <td>0</td>\n",
       "      <td>4.268488</td>\n",
       "      <td>1.362296</td>\n",
       "      <td>65</td>\n",
       "    </tr>\n",
       "    <tr>\n",
       "      <th>178</th>\n",
       "      <td>1</td>\n",
       "      <td>1</td>\n",
       "      <td>1</td>\n",
       "      <td>2</td>\n",
       "      <td>0</td>\n",
       "      <td>3.053917</td>\n",
       "      <td>2.469108</td>\n",
       "      <td>21</td>\n",
       "    </tr>\n",
       "    <tr>\n",
       "      <th>199</th>\n",
       "      <td>0</td>\n",
       "      <td>1</td>\n",
       "      <td>1</td>\n",
       "      <td>2</td>\n",
       "      <td>0</td>\n",
       "      <td>3.163843</td>\n",
       "      <td>1.296835</td>\n",
       "      <td>21</td>\n",
       "    </tr>\n",
       "    <tr>\n",
       "      <th>206</th>\n",
       "      <td>0</td>\n",
       "      <td>1</td>\n",
       "      <td>1</td>\n",
       "      <td>4</td>\n",
       "      <td>0</td>\n",
       "      <td>3.765002</td>\n",
       "      <td>1.189270</td>\n",
       "      <td>38</td>\n",
       "    </tr>\n",
       "  </tbody>\n",
       "</table>\n",
       "</div>"
      ],
      "text/plain": [
       "     nofish  livebait  camper  persons  child        xb        zg  count\n",
       "24        0         1       1        3      0  3.500298  1.451271     30\n",
       "41        0         1       1        4      0  3.484046  2.355653     32\n",
       "52        0         1       1        4      0  3.196706  1.515483     22\n",
       "63        0         1       1        4      0  3.489336  2.547997     32\n",
       "88        0         1       1        4      0  5.005040  3.572134    149\n",
       "99        0         1       0        4      0  3.594677  0.860209     29\n",
       "137       0         1       0        3      1  3.726073  0.701675     31\n",
       "159       0         1       1        4      0  4.268488  1.362296     65\n",
       "178       1         1       1        2      0  3.053917  2.469108     21\n",
       "199       0         1       1        2      0  3.163843  1.296835     21\n",
       "206       0         1       1        4      0  3.765002  1.189270     38"
      ]
     },
     "execution_count": 16,
     "metadata": {},
     "output_type": "execute_result"
    }
   ],
   "source": [
    "df[df['count']>20]"
   ]
  },
  {
   "cell_type": "markdown",
   "id": "characteristic-keyboard",
   "metadata": {},
   "source": [
    "## Kết luận:\n",
    "Trong trường hợp tiến tình tạo kết cục bị dư thừa zero bởi phân phối Bernoulli, chúng ta có thể dùng Zero inflated Distribution. Bài hôm nay dùng zero inflated Poisson. Nhưng bạn cũng có thể dùng Base distribution khác như gamma, negative binom,.. chỉ cần có kết cục zero là ứng dụng được.\n",
    "\n",
    "Reference:\n",
    "- https://fehiepsi.github.io/rethinking-numpyro/12-monsters-and-mixtures.html\n",
    "- https://stats.idre.ucla.edu/stata/dae/zero-inflated-poisson-regression/"
   ]
  }
 ],
 "metadata": {
  "kernelspec": {
   "display_name": "Python 3",
   "language": "python",
   "name": "python3"
  },
  "language_info": {
   "codemirror_mode": {
    "name": "ipython",
    "version": 3
   },
   "file_extension": ".py",
   "mimetype": "text/x-python",
   "name": "python",
   "nbconvert_exporter": "python",
   "pygments_lexer": "ipython3",
   "version": "3.8.0"
  }
 },
 "nbformat": 4,
 "nbformat_minor": 5
}
