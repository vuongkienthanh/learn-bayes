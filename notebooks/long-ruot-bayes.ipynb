{
 "cells": [
  {
   "cell_type": "markdown",
   "metadata": {},
   "source": [
    "# ƯỚC LƯỢNG TRUNG BÌNH BẰNG BAYES\n",
    "[Bs Vương Kiến Thanh](https://vuongkienthanh.github.io)\n",
    "\n",
    "## Đặt vấn đề\n",
    "Trong frequentist, ước lượng trung bình của một biến rất dễ. Công thức như sau:\n",
    "\n",
    "$$ \\mu = \\bar{X} \\pm 1.96\\frac{\\sigma}{\\sqrt{n}} $$\n",
    "\n",
    "Công thức này có được nhờ **CENTRAL LIMIT THEOREM**.  \n",
    "\n",
    "Tuy nhiên, liệu nó có đúng với tất cả mọi trường hợp? Và bạn phải hiểu rằng phải diễn đạt kết quả dưới qua điểm của frequentist, nghĩa là lặp lại vô số lần thí nghiệm thì con số trung bình nằm trong khoảng tin cậy đó. Rất trừu tượng phải không?  \n",
    "\n",
    "Ngược lại, với Bayes, bạn có thể tìm ra kết quả trong mọi trường hợp và dễ dàng giải thích kết quả bằng lý thuyết xác suất đơn thuần. Ngoài ra, pp Bayes còn cho phép ta thêm thông tin tiền định.\n",
    "\n",
    "## Hôm nay tôi sẽ làm một bài tập nhỏ:\n",
    "#### Ước lượng độ tuổi trung bình mắc bệnh [**LỒNG RUỘT**.](https://bvndtp.org.vn/phac-dieu-tri-long-ruot-o-tre-em-2/)\n",
    "\n",
    "DATA được mô phỏng theo https://pediatrics.aappublications.org/content/107/2/299/tab-figures-data"
   ]
  },
  {
   "cell_type": "code",
   "execution_count": 1,
   "metadata": {},
   "outputs": [],
   "source": [
    "import arviz as az\n",
    "import matplotlib.pyplot as plt\n",
    "import seaborn as sns\n",
    "az.style.use(\"arviz-darkgrid\")\n",
    "%matplotlib inline\n",
    "\n",
    "import pandas as pd\n",
    "import numpy as np\n",
    "\n",
    "import jax.numpy as jnp\n",
    "from jax.random import PRNGKey\n",
    "import jax.lax as lax\n",
    "\n",
    "import numpyro\n",
    "from numpyro.diagnostics import hpdi, print_summary, summary\n",
    "import numpyro.distributions as dist\n",
    "from numpyro.infer import SVI\n",
    "from numpyro.contrib.autoguide import (AutoContinuousELBO,\n",
    "                                       AutoLaplaceApproximation)\n",
    "from numpyro.optim import Adam\n"
   ]
  },
  {
   "cell_type": "code",
   "execution_count": 2,
   "metadata": {},
   "outputs": [],
   "source": [
    "def my_data_plot(data, bins=50, lim=50, title=None):\n",
    "    data = np.array(data)\n",
    "    ax = plt.gca()\n",
    "    ax.hist(data, density=True, bins=bins, edgecolor='w')\n",
    "    az.plot_dist(data, ax=ax);\n",
    "    plt.title(title)\n",
    "    if lim is not None:\n",
    "        lim = int(data.max())\n",
    "        l = len(str(lim)) - 1\n",
    "        plt.xlim(0, lim+l)\n",
    "        plt.xticks(np.arange(0,lim, 10**l))\n",
    "    plt.show()"
   ]
  },
  {
   "cell_type": "code",
   "execution_count": 3,
   "metadata": {},
   "outputs": [
    {
     "data": {
      "text/plain": [
       "array([ 7.,  2., 53., 43., 34.,  4., 12., 24., 59., 55.,  2., 81.,  6.,\n",
       "        4., 20.,  2.,  4.,  8., 41.,  7., 41., 11.,  8.,  9.,  8., 10.,\n",
       "        4.,  2.,  9., 13., 62.,  7.,  2., 43., 24.,  7., 10., 10.,  4.,\n",
       "        7.,  5., 19., 22., 27., 20., 10.,  1.,  8., 82.,  6., 10.,  6.,\n",
       "       65.,  9.,  1., 59.,  4., 19., 85.,  3., 11., 11., 28., 14.,  8.,\n",
       "        8., 11., 11., 19., 15., 94., 43., 50.,  7., 26., 10.,  2., 45.,\n",
       "       78.,  9.,  8., 67.,  6.,  7., 78., 42.,  5.,  3.,  7.,  2., 11.,\n",
       "       92.,  3.,  3.,  5.,  5., 30., 12., 66., 12., 36., 11., 11., 31.,\n",
       "        8., 14.,  8., 53.,  3., 56.,  4., 61.,  4., 13., 25., 61.,  1.,\n",
       "        6.,  9., 42., 31., 11.,  2.,  1., 50.,  3.,  6., 34., 13., 30.,\n",
       "       46.,  5., 22.,  3.,  1.,  3.,  9., 86., 39., 42., 11.,  7., 43.,\n",
       "       56., 63.,  3., 10.,  7.,  6.,  1., 27., 38.,  2., 93., 20.,  2.,\n",
       "        6.,  6., 17.,  3., 10., 10., 64., 41., 26., 11.,  1.,  8.,  2.,\n",
       "        9.,  7.,  9.,  7., 86.,  4., 11.,  2., 10.,  8., 29., 43.,  4.,\n",
       "        5., 50.,  3., 18.,  6., 10., 20.,  8., 68., 11.,  5.,  5., 60.,\n",
       "        1., 10.,  2.,  6., 21.,  7., 10.,  1., 51., 47., 89., 16.,  6.,\n",
       "       31.,  6., 10., 19.,  1.,  4., 26., 10.,  3., 24., 20., 55.,  7.,\n",
       "       15., 20.,  3.,  8.,  9., 10., 10.,  5., 84., 67., 23., 18., 44.,\n",
       "        8., 24., 19.,  5., 83., 41.,  2.,  4.,  7., 32., 22., 85., 37.,\n",
       "        5.,  9.,  6., 84.,  1., 77.,  7.,  2., 11., 22., 27., 10., 11.,\n",
       "        4.,  3., 25.,  3.,  5.,  5., 21., 30., 21.,  4.,  3., 11., 36.,\n",
       "        1., 10., 23.,  3.,  2.,  1., 10.,  2., 52.,  4., 17., 11.,  8.,\n",
       "        4.,  7.,  7., 11., 20., 59.,  5.,  3., 21.,  8.,  5., 16., 16.,\n",
       "       24.,  4.,  3.,  7.,  7.,  3.,  7., 11.,  1., 11., 10., 41.,  4.,\n",
       "        5., 28., 62., 67., 48.,  7.,  7.,  4., 46.,  2.,  1.,  2.,  3.,\n",
       "       19.,  6.,  3., 81.,  4., 62.,  2.,  6.,  6.,  3.,  7.,  3., 40.,\n",
       "        3.,  5.,  7., 11., 29., 16., 26.,  7., 82., 19., 10.,  9.,  3.,\n",
       "       15.,  1., 23.,  2.,  4.,  5.,  1., 22.,  8., 18.,  6., 34.,  2.,\n",
       "       91., 67.,  7.,  1., 46., 12.,  3.,  1.,  1., 45.,  7., 76., 86.,\n",
       "       29., 85.,  3., 34.,  1.,  7., 21., 12., 13.,  2.,  6.,  5.,  8.,\n",
       "        7.,  1.,  1.,  6.,  3., 15., 25.,  3., 11., 88., 76.,  9., 11.,\n",
       "        5.,  1.,  4.,  4.,  6.,  9., 54., 78.,  5.,  7., 11.,  8., 27.,\n",
       "       11.,  2.,  1.,  3.,  9., 44., 19.,  2., 17., 36., 11., 16., 18.,\n",
       "       10., 92., 37.,  1.,  9., 11., 11., 78.,  6., 33., 25.,  2., 89.,\n",
       "        4.,  7., 18.,  4.,  9.,  9.,  4., 13., 22.,  1.,  9.,  4.,  1.,\n",
       "        1., 23., 53.,  6., 11., 11., 14., 18., 73.,  7., 10.,  3., 81.,\n",
       "       72., 41., 10., 27.,  3.,  8.,  8.,  6., 30.,  1., 77., 11.,  5.,\n",
       "       43., 11., 10., 19.,  5.,  5., 13.,  6.,  7.,  4.,  9., 20., 30.,\n",
       "        5.,  4., 47., 29., 34.,  8.,  3.,  3.,  5.,  8.,  5., 36., 43.,\n",
       "       14.])"
      ]
     },
     "execution_count": 3,
     "metadata": {},
     "output_type": "execute_result"
    }
   ],
   "source": [
    "raw = [(range(1, 6 ), 147),\n",
    "       (range(6, 12), 159),\n",
    "       (range(12,24), 65),\n",
    "       (range(24,48), 73),\n",
    "       (range(48,96), 64)]\n",
    "\n",
    "data = np.array([])\n",
    "for age, size in raw:\n",
    "    data = np.hstack([data, np.random.choice(age, size)])\n",
    "    \n",
    "data = data.ravel()\n",
    "np.random.shuffle(data)\n",
    "data"
   ]
  },
  {
   "cell_type": "code",
   "execution_count": 4,
   "metadata": {},
   "outputs": [
    {
     "data": {
      "image/png": "[encoded data removed]",
      "text/plain": [
       "<Figure size 432x288 with 1 Axes>"
      ]
     },
     "metadata": {
      "needs_background": "light"
     },
     "output_type": "display_data"
    }
   ],
   "source": [
    "my_data_plot(data, title='Kiểm tra phân phối của biến \"Tuổi bị lồng ruột (tháng)\"')"
   ]
  },
  {
   "cell_type": "markdown",
   "metadata": {},
   "source": [
    "## Các bạn thấy đó, phân phối này bị skew dương.  \n",
    "Trong thống kê thì phân phối này rất thường gặp, khi đó, bạn cần phải transform biến bằng cách như logarith, v..v.."
   ]
  },
  {
   "cell_type": "markdown",
   "metadata": {},
   "source": [
    "---\n",
    "## Ước lượng trung bình và khoảng tin cậy bằng pp frequentist\n",
    "- Áp dụng được với mọi loại phân phối, điều kiện là mẫu phải lớn."
   ]
  },
  {
   "cell_type": "code",
   "execution_count": 5,
   "metadata": {},
   "outputs": [
    {
     "name": "stdout",
     "output_type": "stream",
     "text": [
      "Trung bình: 19.70\n",
      "KTC 95%   : 17.73 -- 21.68\n"
     ]
    }
   ],
   "source": [
    "n = len(data)\n",
    "mean = data.mean()\n",
    "sigma = data.std(ddof=1)\n",
    "lower_bound = mean - 1.96*sigma/np.sqrt(n)\n",
    "upper_bound = mean + 1.96*sigma/np.sqrt(n)\n",
    "print(f\"Trung bình: {mean:.2f}\")\n",
    "print(f\"KTC 95%   : {lower_bound:.2f} -- {upper_bound:.2f}\")"
   ]
  },
  {
   "cell_type": "markdown",
   "metadata": {},
   "source": [
    "- Có thể transform data trước để hợp logic hơn, khi đó phân phối giống normal hơn."
   ]
  },
  {
   "cell_type": "code",
   "execution_count": 6,
   "metadata": {},
   "outputs": [],
   "source": [
    "log_data = np.ones(data.shape)\n",
    "np.log(data, out=log_data, where=data>0);"
   ]
  },
  {
   "cell_type": "code",
   "execution_count": 7,
   "metadata": {},
   "outputs": [
    {
     "data": {
      "image/png": "[encoded data removed]",
      "text/plain": [
       "<Figure size 432x288 with 1 Axes>"
      ]
     },
     "metadata": {
      "needs_background": "light"
     },
     "output_type": "display_data"
    }
   ],
   "source": [
    "my_data_plot(log_data, bins=12, lim=5,title=\"Phân phối của biến sau khi transform logarith\")"
   ]
  },
  {
   "cell_type": "code",
   "execution_count": 8,
   "metadata": {},
   "outputs": [
    {
     "name": "stdout",
     "output_type": "stream",
     "text": [
      "Trung bình: 10.44\n",
      "KTC 95%   : 9.42 -- 11.56\n"
     ]
    }
   ],
   "source": [
    "n = len(log_data)\n",
    "mean = log_data.mean()\n",
    "sigma = log_data.std(ddof=1)\n",
    "lower_bound = mean - 1.96*sigma/np.sqrt(n)\n",
    "upper_bound = mean + 1.96*sigma/np.sqrt(n)\n",
    "print(f\"Trung bình: {np.exp(mean):.2f}\")\n",
    "print(f\"KTC 95%   : {np.exp(lower_bound):.2f} -- {np.exp(upper_bound):.2f}\")"
   ]
  },
  {
   "cell_type": "markdown",
   "metadata": {},
   "source": [
    "==> Trung bình của `log_data` khác với trung bình của `data` bởi vì **Trung bình của `log_data` thực chất là trung vị của `data` gốc.**"
   ]
  },
  {
   "cell_type": "markdown",
   "metadata": {},
   "source": [
    "---\n",
    "## Ước lượng trung bình và khoảng tin cậy bằng pp Bayes\n",
    "\n",
    "**Bước 1: Likelihood**  \n",
    "- Ta chọn LogNormal vì phân phối này gần giống với phân phối của `data`.\n",
    "\n",
    "**Bước 2: Prior**  \n",
    "- Đặt 2 parameters `loc`, `scale` của LogNormal thông qua grid search\n",
    "- Phương pháp đơn giản để chọn parameter là mô phỏng mẫu trước khi \"thấy\" dữ liệu thực.\n",
    "\n",
    "**Bước 3:Lấy sample Posterior:**  \n",
    "- MCMC, MAP_quadratic_approximation.\n",
    "\n",
    "**Bước 4:Từ sample ta sẽ có trung bình, khoảng tin cậy v..v..**  "
   ]
  },
  {
   "cell_type": "markdown",
   "metadata": {},
   "source": [
    "## Chọn prior cho các parameter `loc`, `scale` của lilelihood bằng pp Grid Search\n",
    "#### Kiến thức chuyên môn:\n",
    ">Sách của Bộ môn Ngoại nhi Đại học Y dược TP.HCM nói rằng LR có độ tuổi mắc phải chiếm 80-90% ở độ tuổi dưới 12 tháng.  \n",
    ">Thường >6 tháng do thay đổi chế độ ăn."
   ]
  },
  {
   "cell_type": "code",
   "execution_count": 9,
   "metadata": {},
   "outputs": [
    {
     "name": "stdout",
     "output_type": "stream",
     "text": [
      "-----Với loc=2.10, scale=0.40\n",
      "Median: 8.12          KTC 80%: 3.81 -- 11.48\n",
      "\n",
      "-----Với loc=2.10, scale=0.50\n",
      "Median: 8.11          KTC 80%: 3.15 -- 12.51\n",
      "\n",
      "-----Với loc=2.20, scale=0.20\n",
      "Median: 9.00          KTC 80%: 6.98 -- 11.34\n",
      "\n",
      "-----Với loc=2.20, scale=0.30\n",
      "Median: 8.98          KTC 80%: 5.25 -- 11.78\n",
      "\n",
      "-----Với loc=2.20, scale=0.40\n",
      "Median: 8.97          KTC 80%: 4.21 -- 12.69\n",
      "\n",
      "-----Với loc=2.30, scale=0.10\n",
      "Median: 9.96          KTC 80%: 8.77 -- 11.18\n",
      "\n",
      "-----Với loc=2.30, scale=0.20\n",
      "Median: 9.94          KTC 80%: 7.71 -- 12.54\n",
      "\n",
      "-----Với loc=2.40, scale=0.10\n",
      "Median: 11.01          KTC 80%: 9.69 -- 12.36\n",
      "\n"
     ]
    }
   ],
   "source": [
    "from itertools import product\n",
    "for loc, scale in product(np.arange(0, 5, 0.1), np.arange(0.1, 5, 0.1)):\n",
    "    lognormal = dist.LogNormal(loc, scale)\n",
    "    sample = lognormal.sample(PRNGKey(0),sample_shape=(1000,))\n",
    "    lo, up = hpdi(sample, prob=0.8)\n",
    "    if np.abs(12-up)<1 and lo >3:\n",
    "        print(f\"-----Với loc={loc:.2f}, scale={scale:.2f}\")\n",
    "        print(f\"Median: {np.median(sample):.2f}\", end=\" \"*10)\n",
    "        print(f\"KTC 80%: {lo:.2f} -- {up:.2f}\")\n",
    "        print()"
   ]
  },
  {
   "cell_type": "markdown",
   "metadata": {},
   "source": [
    "## Có vẻ prior `loc=2.1, scale=0.5` là hợp lý.\n",
    "Ta sẽ đặt\n",
    "- `loc ~ Uniform(1,4)`\n",
    "- `scale~ Exponential(1/0.5)` có trung bình là 0.5"
   ]
  },
  {
   "cell_type": "code",
   "execution_count": 10,
   "metadata": {},
   "outputs": [
    {
     "data": {
      "image/png": "[encoded data removed]",
      "text/plain": [
       "<Figure size 432x288 with 1 Axes>"
      ]
     },
     "metadata": {
      "needs_background": "light"
     },
     "output_type": "display_data"
    }
   ],
   "source": [
    "a = np.linspace(0,40)\n",
    "lognormal = dist.LogNormal(2.1,0.5)\n",
    "plt.plot(a, np.exp(lognormal.log_prob(a)));"
   ]
  },
  {
   "cell_type": "markdown",
   "metadata": {},
   "source": [
    "## Bài này mình xin chạy MAP_quadratic_approximation để tìm posterior:\n",
    ">Nó đơn giản là tìm đỉnh của posterior bằng gradient ascent và ước lượng sigma thông qua ma trận hessian blah, blah,.."
   ]
  },
  {
   "cell_type": "markdown",
   "metadata": {},
   "source": [
    "Model:\n",
    "$$\\begin{align}\n",
    "\\text{age}  &\\sim \\text{LogNorm(loc, scale)}\\\\\n",
    "\\text{loc}  &\\sim \\text{Uniform(1, 4)}\\\\\n",
    "\\text{scale}  &\\sim \\text{Exponential(2)}\n",
    "\\end{align}$$"
   ]
  },
  {
   "cell_type": "code",
   "execution_count": 11,
   "metadata": {},
   "outputs": [],
   "source": [
    "def model(age):\n",
    "    # priors\n",
    "    loc = numpyro.sample('loc', dist.Uniform(1,4))\n",
    "    scale = numpyro.sample('scale', dist.Exponential(2))\n",
    "    # likelihood\n",
    "    numpyro.sample(\"age\", dist.LogNormal(loc, scale), obs=age)"
   ]
  },
  {
   "cell_type": "code",
   "execution_count": 12,
   "metadata": {},
   "outputs": [],
   "source": [
    "guide = AutoLaplaceApproximation(model)\n",
    "svi = SVI(model, guide, Adam(1), AutoContinuousELBO(),\n",
    "          age=data)\n",
    "init_state = svi.init(PRNGKey(0))\n",
    "state, loss = lax.scan(lambda x, i: svi.update(x), init_state, np.zeros(2000))\n",
    "param = svi.get_params(state)\n",
    "samples = guide.sample_posterior(PRNGKey(1), param, (1000,))"
   ]
  },
  {
   "cell_type": "code",
   "execution_count": 13,
   "metadata": {},
   "outputs": [
    {
     "data": {
      "text/html": [
       "<div>\n",
       "<style scoped>\n",
       "    .dataframe tbody tr th:only-of-type {\n",
       "        vertical-align: middle;\n",
       "    }\n",
       "\n",
       "    .dataframe tbody tr th {\n",
       "        vertical-align: top;\n",
       "    }\n",
       "\n",
       "    .dataframe thead th {\n",
       "        text-align: right;\n",
       "    }\n",
       "</style>\n",
       "<table border=\"1\" class=\"dataframe\">\n",
       "  <thead>\n",
       "    <tr style=\"text-align: right;\">\n",
       "      <th></th>\n",
       "      <th>mean</th>\n",
       "      <th>std</th>\n",
       "      <th>median</th>\n",
       "      <th>5.5%</th>\n",
       "      <th>94.5%</th>\n",
       "      <th>n_eff</th>\n",
       "      <th>r_hat</th>\n",
       "    </tr>\n",
       "  </thead>\n",
       "  <tbody>\n",
       "    <tr>\n",
       "      <th>loc</th>\n",
       "      <td>2.345120</td>\n",
       "      <td>0.050836</td>\n",
       "      <td>2.344470</td>\n",
       "      <td>2.259736</td>\n",
       "      <td>2.421217</td>\n",
       "      <td>994.498474</td>\n",
       "      <td>0.999000</td>\n",
       "    </tr>\n",
       "    <tr>\n",
       "      <th>scale</th>\n",
       "      <td>1.177941</td>\n",
       "      <td>0.037235</td>\n",
       "      <td>1.177862</td>\n",
       "      <td>1.123580</td>\n",
       "      <td>1.241333</td>\n",
       "      <td>1007.112048</td>\n",
       "      <td>0.999017</td>\n",
       "    </tr>\n",
       "  </tbody>\n",
       "</table>\n",
       "</div>"
      ],
      "text/plain": [
       "           mean       std    median      5.5%     94.5%        n_eff     r_hat\n",
       "loc    2.345120  0.050836  2.344470  2.259736  2.421217   994.498474  0.999000\n",
       "scale  1.177941  0.037235  1.177862  1.123580  1.241333  1007.112048  0.999017"
      ]
     },
     "execution_count": 13,
     "metadata": {},
     "output_type": "execute_result"
    }
   ],
   "source": [
    "posterior = pd.DataFrame(summary(samples, 0.89, False)).T\n",
    "posterior"
   ]
  },
  {
   "cell_type": "code",
   "execution_count": 14,
   "metadata": {},
   "outputs": [
    {
     "data": {
      "image/png": "[encoded data removed]",
      "text/plain": [
       "<Figure size 432x216 with 2 Axes>"
      ]
     },
     "metadata": {
      "needs_background": "light"
     },
     "output_type": "display_data"
    }
   ],
   "source": [
    "az.plot_posterior(samples, figsize=(6,3));"
   ]
  },
  {
   "cell_type": "markdown",
   "metadata": {},
   "source": [
    "## Nhận xét:\n",
    "- Các bạn thấy rằng với cỡ mẫu đủ lớn thì phân phối posterior gần như normal, không còn phụ thuộc vào phân phối của prior nữa.\n",
    "- Tuy nhiên, việc đặt prior phù hợp vẫn quan trọng để tăng độ chính xác của suy luận Bayes."
   ]
  },
  {
   "cell_type": "markdown",
   "metadata": {},
   "source": [
    "---\n",
    "\n",
    "## Ước lượng trung bình và khoảng tin cậy của trung bình bằng PP BOOTSTRAP:\n",
    "\n",
    "Ta lấy 1000x1000 mẫu từ LogNormal với `loc=2.3, scale=1.2`. Tìm mean của 1000 mẫu đó, từ đó ra khoảng tin cậy của mean. "
   ]
  },
  {
   "cell_type": "code",
   "execution_count": 15,
   "metadata": {},
   "outputs": [],
   "source": [
    "posterior_age = dist.LogNormal(\n",
    "    posterior.loc['loc','mean'],\n",
    "    posterior.loc['scale','mean']\n",
    ")\n",
    "\n",
    "age_samples = posterior_age.sample(PRNGKey(1), sample_shape=(1000,1000))"
   ]
  },
  {
   "cell_type": "code",
   "execution_count": 16,
   "metadata": {},
   "outputs": [
    {
     "name": "stdout",
     "output_type": "stream",
     "text": [
      "Trung bình: 20.85\n",
      "KTC 95%   : 18.95 - 23.31\n"
     ]
    }
   ],
   "source": [
    "mean_list = np.mean(age_samples, axis=0)\n",
    "a,b,c = np.quantile(mean_list, (0.025, 0.5, 0.975))\n",
    "\n",
    "print(f\"Trung bình: {b:.2f}\")\n",
    "print(f\"KTC 95%   : {a:.2f} - {c:.2f}\")"
   ]
  },
  {
   "cell_type": "markdown",
   "metadata": {},
   "source": [
    "## HOẶC trung vị và khoảng tin cậy của trung vị ( bởi vì pp LogNormal)"
   ]
  },
  {
   "cell_type": "code",
   "execution_count": 17,
   "metadata": {},
   "outputs": [
    {
     "name": "stdout",
     "output_type": "stream",
     "text": [
      "Trung vị  : 10.46\n",
      "KTC 95%   : 9.52 - 11.52\n"
     ]
    }
   ],
   "source": [
    "median_list = np.median(age_samples, axis=0)\n",
    "a,b,c = np.quantile(median_list, (0.025, 0.5, 0.975))\n",
    "\n",
    "print(f\"Trung vị  : {b:.2f}\")\n",
    "print(f\"KTC 95%   : {a:.2f} - {c:.2f}\")"
   ]
  },
  {
   "cell_type": "markdown",
   "metadata": {},
   "source": [
    "---\n",
    "# Ứng dụng của PP Bayes\n",
    "## Một điểm hay của Bayes là ta có thể dùng nó để dự báo.\n",
    "Với mỗi cặp `loc, scale`, ta cho vào LogNormal và lấy 1 mẫu. Mà ta có 1000 cặp như vậy => 1000 mẫu.   \n",
    "Người ta gọi mẫu này là posterior predictive distribution."
   ]
  },
  {
   "cell_type": "code",
   "execution_count": 18,
   "metadata": {},
   "outputs": [],
   "source": [
    "predict_samples = dist.LogNormal(samples['loc'], samples['scale']).sample(PRNGKey(12))"
   ]
  },
  {
   "cell_type": "code",
   "execution_count": 19,
   "metadata": {},
   "outputs": [
    {
     "data": {
      "image/png": "[encoded data removed]",
      "text/plain": [
       "<Figure size 432x288 with 1 Axes>"
      ]
     },
     "metadata": {
      "needs_background": "light"
     },
     "output_type": "display_data"
    }
   ],
   "source": [
    "bins = 80\n",
    "plt.hist(predict_samples,np.arange(bins), density=True, edgecolor='w')\n",
    "a = np.linspace(0, bins)\n",
    "plt.plot(a, np.exp(posterior_age.log_prob(a)))\n",
    "plt.xticks(np.arange(0, bins,10));"
   ]
  },
  {
   "cell_type": "markdown",
   "metadata": {},
   "source": [
    "- Xác suất một người mới bị lồng ruột có tuổi $\\geq$ 5 tuổi?"
   ]
  },
  {
   "cell_type": "code",
   "execution_count": 20,
   "metadata": {},
   "outputs": [
    {
     "data": {
      "text/plain": [
       "0.089"
      ]
     },
     "execution_count": 20,
     "metadata": {},
     "output_type": "execute_result"
    }
   ],
   "source": [
    "sum(predict_samples > (5*12)) / 1000"
   ]
  },
  {
   "cell_type": "markdown",
   "metadata": {},
   "source": [
    "- Xác suất một người mới bị lồng ruột có tuổi <3 tháng?"
   ]
  },
  {
   "cell_type": "code",
   "execution_count": 21,
   "metadata": {},
   "outputs": [
    {
     "data": {
      "text/plain": [
       "0.156"
      ]
     },
     "execution_count": 21,
     "metadata": {},
     "output_type": "execute_result"
    }
   ],
   "source": [
    "sum(predict_samples <3) / 1000"
   ]
  },
  {
   "cell_type": "markdown",
   "metadata": {},
   "source": [
    "- Xác suất một người mới bị lồng ruột có tuổi từ 6 đến 18 tháng tuổi?"
   ]
  },
  {
   "cell_type": "code",
   "execution_count": 22,
   "metadata": {},
   "outputs": [
    {
     "data": {
      "text/plain": [
       "0.36"
      ]
     },
     "execution_count": 22,
     "metadata": {},
     "output_type": "execute_result"
    }
   ],
   "source": [
    "sum((predict_samples >6) & (predict_samples <18)) / 1000"
   ]
  },
  {
   "cell_type": "markdown",
   "metadata": {},
   "source": [
    "- Trong `predict_samples` thì ai là người lớn tuổi nhất có thể bị lồng ruột?"
   ]
  },
  {
   "cell_type": "code",
   "execution_count": 23,
   "metadata": {},
   "outputs": [
    {
     "name": "stdout",
     "output_type": "stream",
     "text": [
      "48.43579\n"
     ]
    }
   ],
   "source": [
    "print(np.max(predict_samples) /12)"
   ]
  },
  {
   "cell_type": "code",
   "execution_count": 24,
   "metadata": {},
   "outputs": [
    {
     "name": "stdout",
     "output_type": "stream",
     "text": [
      "2.3101928 1.1993271\n"
     ]
    }
   ],
   "source": [
    "idx = np.argmax(predict_samples)\n",
    "print(samples['loc'][idx], samples['scale'][idx])"
   ]
  },
  {
   "cell_type": "markdown",
   "metadata": {},
   "source": [
    "## @.@ really? Have a nice day."
   ]
  }
 ],
 "metadata": {
  "kernelspec": {
   "display_name": "Python 3",
   "language": "python",
   "name": "python3"
  },
  "language_info": {
   "codemirror_mode": {
    "name": "ipython",
    "version": 3
   },
   "file_extension": ".py",
   "mimetype": "text/x-python",
   "name": "python",
   "nbconvert_exporter": "python",
   "pygments_lexer": "ipython3",
   "version": "3.7.6"
  }
 },
 "nbformat": 4,
 "nbformat_minor": 4
}
