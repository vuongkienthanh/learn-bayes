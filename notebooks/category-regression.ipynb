{
 "cells": [
  {
   "cell_type": "code",
   "execution_count": 1,
   "metadata": {},
   "outputs": [],
   "source": [
    "import numpy as np\n",
    "\n",
    "import arviz as az\n",
    "import matplotlib.pyplot as plt\n",
    "import pandas as pd\n",
    "\n",
    "import jax.numpy as jnp\n",
    "from jax import lax\n",
    "from jax.random import PRNGKey\n",
    "\n",
    "import numpyro\n",
    "import numpyro.distributions as dist\n",
    "from numpyro.optim import Adam\n",
    "from numpyro.diagnostics import print_summary\n",
    "from numpyro.infer import ELBO, SVI, Predictive\n",
    "from numpyro.infer.autoguide import AutoLaplaceApproximation\n",
    "\n",
    "from sklearn.preprocessing import StandardScaler"
   ]
  },
  {
   "cell_type": "markdown",
   "metadata": {},
   "source": [
    "# Binary category"
   ]
  },
  {
   "cell_type": "code",
   "execution_count": 2,
   "metadata": {},
   "outputs": [
    {
     "data": {
      "text/html": [
       "<div>\n",
       "<style scoped>\n",
       "    .dataframe tbody tr th:only-of-type {\n",
       "        vertical-align: middle;\n",
       "    }\n",
       "\n",
       "    .dataframe tbody tr th {\n",
       "        vertical-align: top;\n",
       "    }\n",
       "\n",
       "    .dataframe thead th {\n",
       "        text-align: right;\n",
       "    }\n",
       "</style>\n",
       "<table border=\"1\" class=\"dataframe\">\n",
       "  <thead>\n",
       "    <tr style=\"text-align: right;\">\n",
       "      <th></th>\n",
       "      <th>male</th>\n",
       "      <th>height</th>\n",
       "    </tr>\n",
       "  </thead>\n",
       "  <tbody>\n",
       "    <tr>\n",
       "      <th>0</th>\n",
       "      <td>1</td>\n",
       "      <td>151.765</td>\n",
       "    </tr>\n",
       "    <tr>\n",
       "      <th>1</th>\n",
       "      <td>0</td>\n",
       "      <td>139.700</td>\n",
       "    </tr>\n",
       "    <tr>\n",
       "      <th>2</th>\n",
       "      <td>0</td>\n",
       "      <td>136.525</td>\n",
       "    </tr>\n",
       "    <tr>\n",
       "      <th>3</th>\n",
       "      <td>1</td>\n",
       "      <td>156.845</td>\n",
       "    </tr>\n",
       "    <tr>\n",
       "      <th>4</th>\n",
       "      <td>0</td>\n",
       "      <td>145.415</td>\n",
       "    </tr>\n",
       "  </tbody>\n",
       "</table>\n",
       "</div>"
      ],
      "text/plain": [
       "   male   height\n",
       "0     1  151.765\n",
       "1     0  139.700\n",
       "2     0  136.525\n",
       "3     1  156.845\n",
       "4     0  145.415"
      ]
     },
     "execution_count": 2,
     "metadata": {},
     "output_type": "execute_result"
    }
   ],
   "source": [
    "url = r\"https://raw.githubusercontent.com/fehiepsi/rethinking-numpyro/master/data/Howell1.csv\"\n",
    "\n",
    "df = pd.read_csv(url, sep=\";\")[['male', 'height']]\n",
    "df.head()"
   ]
  },
  {
   "cell_type": "markdown",
   "metadata": {},
   "source": [
    "Model:\n",
    "$$\\begin{align}\n",
    "h_i ∼& \\;\\text{Normal}(\\mu_i , \\sigma) \\\\\n",
    "\\mu_i =& \\; \\alpha_{\\text{male[i]} } \\\\\n",
    "\\alpha_j ∼& \\; \\text{Normal}(178, 20) \\quad \\text{for j = 1..2} \\\\\n",
    "\\sigma ∼& \\; \\text{Uniform}(0, 50)\n",
    "\\end{align}$$"
   ]
  },
  {
   "cell_type": "code",
   "execution_count": 3,
   "metadata": {},
   "outputs": [
    {
     "name": "stdout",
     "output_type": "stream",
     "text": [
      "\n",
      "                mean       std    median      5.5%     94.5%     n_eff     r_hat\n",
      "      a[0]    135.02      1.63    135.07    132.32    137.46    931.50      1.00\n",
      "      a[1]    142.56      1.73    142.54    140.02    145.51   1111.51      1.00\n",
      "     sigma     27.32      0.84     27.32     26.03     28.71    951.62      1.00\n",
      "\n"
     ]
    }
   ],
   "source": [
    "def model(male, height):\n",
    "    a = numpyro.sample(\"a\", dist.Normal(178, 20).expand((2,)) )\n",
    "    sigma = numpyro.sample(\"sigma\", dist.Uniform(0, 50))\n",
    "    mu = a[male]\n",
    "    numpyro.sample(\"height\", dist.Normal(mu, sigma), obs=height)\n",
    "\n",
    "\n",
    "guide = AutoLaplaceApproximation(model)\n",
    "svi = SVI(model, guide, Adam(1), ELBO(),\n",
    "          male=df['male'].values,\n",
    "          height=df['height'].values)\n",
    "init_state = svi.init(PRNGKey(0))\n",
    "state, loss = lax.scan(lambda x, i: svi.update(x), init_state, jnp.zeros(2000))\n",
    "param = svi.get_params(state)\n",
    "post = guide.sample_posterior(PRNGKey(1), param, (1000,))\n",
    "print_summary(post, 0.89, False)"
   ]
  },
  {
   "cell_type": "code",
   "execution_count": 4,
   "metadata": {},
   "outputs": [
    {
     "name": "stdout",
     "output_type": "stream",
     "text": [
      "\n",
      "                mean       std    median      5.5%     94.5%     n_eff     r_hat\n",
      "      a[0]    135.02      1.63    135.07    132.32    137.46    931.50      1.00\n",
      "      a[1]    142.56      1.73    142.54    140.02    145.51   1111.51      1.00\n",
      "   diff_fm     -7.54      2.38     -7.47    -11.77     -4.32    876.56      1.00\n",
      "     sigma     27.32      0.84     27.32     26.03     28.71    951.62      1.00\n",
      "\n"
     ]
    }
   ],
   "source": [
    "post = guide.sample_posterior(PRNGKey(1), param, (1000,))\n",
    "post[\"diff_fm\"] = post[\"a\"][:, 0] - post[\"a\"][:, 1]\n",
    "print_summary(post, 0.89, False)"
   ]
  },
  {
   "cell_type": "markdown",
   "metadata": {},
   "source": [
    "# Multiple category"
   ]
  },
  {
   "cell_type": "code",
   "execution_count": 5,
   "metadata": {},
   "outputs": [
    {
     "data": {
      "text/html": [
       "<div>\n",
       "<style scoped>\n",
       "    .dataframe tbody tr th:only-of-type {\n",
       "        vertical-align: middle;\n",
       "    }\n",
       "\n",
       "    .dataframe tbody tr th {\n",
       "        vertical-align: top;\n",
       "    }\n",
       "\n",
       "    .dataframe thead th {\n",
       "        text-align: right;\n",
       "    }\n",
       "</style>\n",
       "<table border=\"1\" class=\"dataframe\">\n",
       "  <thead>\n",
       "    <tr style=\"text-align: right;\">\n",
       "      <th></th>\n",
       "      <th>clade</th>\n",
       "      <th>species</th>\n",
       "      <th>kcal.per.g</th>\n",
       "      <th>perc.fat</th>\n",
       "      <th>perc.protein</th>\n",
       "      <th>perc.lactose</th>\n",
       "      <th>mass</th>\n",
       "      <th>neocortex.perc</th>\n",
       "      <th>clade_id</th>\n",
       "    </tr>\n",
       "  </thead>\n",
       "  <tbody>\n",
       "    <tr>\n",
       "      <th>0</th>\n",
       "      <td>Strepsirrhine</td>\n",
       "      <td>Eulemur fulvus</td>\n",
       "      <td>0.49</td>\n",
       "      <td>16.60</td>\n",
       "      <td>15.42</td>\n",
       "      <td>67.98</td>\n",
       "      <td>1.95</td>\n",
       "      <td>55.16</td>\n",
       "      <td>3</td>\n",
       "    </tr>\n",
       "    <tr>\n",
       "      <th>1</th>\n",
       "      <td>Strepsirrhine</td>\n",
       "      <td>E macaco</td>\n",
       "      <td>0.51</td>\n",
       "      <td>19.27</td>\n",
       "      <td>16.91</td>\n",
       "      <td>63.82</td>\n",
       "      <td>2.09</td>\n",
       "      <td>NaN</td>\n",
       "      <td>3</td>\n",
       "    </tr>\n",
       "    <tr>\n",
       "      <th>2</th>\n",
       "      <td>Strepsirrhine</td>\n",
       "      <td>E mongoz</td>\n",
       "      <td>0.46</td>\n",
       "      <td>14.11</td>\n",
       "      <td>16.85</td>\n",
       "      <td>69.04</td>\n",
       "      <td>2.51</td>\n",
       "      <td>NaN</td>\n",
       "      <td>3</td>\n",
       "    </tr>\n",
       "    <tr>\n",
       "      <th>3</th>\n",
       "      <td>Strepsirrhine</td>\n",
       "      <td>E rubriventer</td>\n",
       "      <td>0.48</td>\n",
       "      <td>14.91</td>\n",
       "      <td>13.18</td>\n",
       "      <td>71.91</td>\n",
       "      <td>1.62</td>\n",
       "      <td>NaN</td>\n",
       "      <td>3</td>\n",
       "    </tr>\n",
       "    <tr>\n",
       "      <th>4</th>\n",
       "      <td>Strepsirrhine</td>\n",
       "      <td>Lemur catta</td>\n",
       "      <td>0.60</td>\n",
       "      <td>27.28</td>\n",
       "      <td>19.50</td>\n",
       "      <td>53.22</td>\n",
       "      <td>2.19</td>\n",
       "      <td>NaN</td>\n",
       "      <td>3</td>\n",
       "    </tr>\n",
       "  </tbody>\n",
       "</table>\n",
       "</div>"
      ],
      "text/plain": [
       "           clade         species  kcal.per.g  perc.fat  perc.protein  \\\n",
       "0  Strepsirrhine  Eulemur fulvus        0.49     16.60         15.42   \n",
       "1  Strepsirrhine        E macaco        0.51     19.27         16.91   \n",
       "2  Strepsirrhine        E mongoz        0.46     14.11         16.85   \n",
       "3  Strepsirrhine   E rubriventer        0.48     14.91         13.18   \n",
       "4  Strepsirrhine     Lemur catta        0.60     27.28         19.50   \n",
       "\n",
       "   perc.lactose  mass  neocortex.perc  clade_id  \n",
       "0         67.98  1.95           55.16         3  \n",
       "1         63.82  2.09             NaN         3  \n",
       "2         69.04  2.51             NaN         3  \n",
       "3         71.91  1.62             NaN         3  \n",
       "4         53.22  2.19             NaN         3  "
      ]
     },
     "execution_count": 5,
     "metadata": {},
     "output_type": "execute_result"
    }
   ],
   "source": [
    "url = r\"https://raw.githubusercontent.com/fehiepsi/rethinking-numpyro/master/data/milk.csv\"\n",
    "\n",
    "df = pd.read_csv(url, sep=\";\")\n",
    "df['clade'] = df['clade'].astype(\"category\")\n",
    "df[\"clade_id\"] = df['clade'].cat.codes\n",
    "df.head()"
   ]
  },
  {
   "cell_type": "code",
   "execution_count": 6,
   "metadata": {},
   "outputs": [],
   "source": [
    "scaler = StandardScaler().fit(df[['kcal.per.g']])\n",
    "df['K'] = scaler.transform(df[['kcal.per.g']])"
   ]
  },
  {
   "cell_type": "code",
   "execution_count": 7,
   "metadata": {},
   "outputs": [
    {
     "data": {
      "image/png": "[encoded data removed]",
      "text/plain": [
       "<Figure size 432x316.8 with 1 Axes>"
      ]
     },
     "metadata": {
      "needs_background": "light"
     },
     "output_type": "display_data"
    }
   ],
   "source": [
    "def model(clade_id, K):\n",
    "    a = numpyro.sample(\"a\", dist.Normal(0, 0.5).expand((4,)))\n",
    "    sigma = numpyro.sample(\"sigma\", dist.Exponential(1))\n",
    "    mu = a[clade_id]\n",
    "    numpyro.sample(\"K\", dist.Normal(mu, sigma), obs=K)\n",
    "\n",
    "\n",
    "guide = AutoLaplaceApproximation(model)\n",
    "svi = SVI(model, guide,\n",
    "          Adam(1), ELBO(),\n",
    "          clade_id=df['clade_id'].values,\n",
    "          K=df['K'].values)\n",
    "init_state = svi.init(PRNGKey(0))\n",
    "state, loss = lax.scan(lambda x, i: svi.update(x), init_state, jnp.zeros(1000))\n",
    "param = svi.get_params(state)\n",
    "post = guide.sample_posterior(PRNGKey(1), param, (1000,))\n",
    "\n",
    "\n",
    "labels = [f\"a[{i}]:{s}\" for i, s in enumerate(df['clade'].cat.categories)]\n",
    "az.plot_forest({\"a\": [post[\"a\"]]}, hdi_prob=0.89)\n",
    "plt.gca().set(yticklabels=labels[::-1],\n",
    "              xlabel=\"expected kcal (std)\")\n",
    "plt.show()"
   ]
  },
  {
   "cell_type": "code",
   "execution_count": null,
   "metadata": {},
   "outputs": [],
   "source": []
  }
 ],
 "metadata": {
  "kernelspec": {
   "display_name": "Python 3",
   "language": "python",
   "name": "python3"
  },
  "language_info": {
   "codemirror_mode": {
    "name": "ipython",
    "version": 3
   },
   "file_extension": ".py",
   "mimetype": "text/x-python",
   "name": "python",
   "nbconvert_exporter": "python",
   "pygments_lexer": "ipython3",
   "version": "3.8.0"
  }
 },
 "nbformat": 4,
 "nbformat_minor": 4
}
