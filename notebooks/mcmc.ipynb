{
 "cells": [
  {
   "cell_type": "markdown",
   "metadata": {},
   "source": [
    "# MARKOV CHAIN MONTE CARLO (MCMC)\n",
    "BS Vương Kiến Thanh\n",
    "\n",
    "1. [MCMC là gì?](#1)\n",
    "2. [Các loại MCMC và điểm mạnh, điểm yếu của chúng](#2)\n",
    "    - [Metropolis Hasting](#21)\n",
    "    - [Gibbs sampling](#22)\n",
    "    - [HMC](#23)\n",
    "3. [Chẩn đoán cho chuỗi MCMC](#3)\n",
    "    - Trace plot\n",
    "    - Rank plot"
   ]
  },
  {
   "cell_type": "markdown",
   "metadata": {},
   "source": [
    "---\n",
    "## 1. MCMC là gì? <a name=\"1\"></a>\n",
    "Là thuật toán để thu thập các sample của posterior. Posterior này chưa được biết và có thể rất phức tạp, là joint prob của nhiều parameter.  \n",
    "\n",
    "Điều kiện cần của MCMC là một hàm $f(x)$ **đồng dạng** với mật độ xác suất $\\text{PDF}(x)$. Do đó, MCMC rất có ích trong bayes vì mẫu số (marginalizing constant) trong Bayes' theorem tính rất khó.\n",
    "\n",
    "Đầu ra của MCMC là các mẫu parameter của posterior. Từ đó, chúng ta có thể vẽ historgram, density, khoảng CI 95% (hoặc 78%, 97%, tùy bạn chọn), tính loss function,.."
   ]
  },
  {
   "cell_type": "markdown",
   "metadata": {},
   "source": [
    "---\n",
    "## 2. Các loại MCMC và điểm mạnh, điểm yếu của chúng <a name=\"2\"></a>\n",
    "\n",
    "demo: https://chi-feng.github.io/mcmc-demo/app.html\n",
    "\n",
    "### a. Metropolis <a name=\"21\"></a>\n",
    "Là ông tổ các thuật toán MCMC hiện đại. Dùng *symmetric proposal distribution*.\n",
    "\n",
    "Mô phỏng MCMC đơn giản bằng `python`:\n",
    "- `init_state` là param khởi đầu, có thể từ prior. \n",
    "- `num_samp` là số lượng mẫu muốn thu thập từ posterior.\n",
    "- `f` là hàm posterior, hoặc dùng prior nhân với likelihood"
   ]
  },
  {
   "cell_type": "markdown",
   "metadata": {},
   "source": [
    "```python\n",
    "def simple_mcmc(f, num_samp, likelihood):\n",
    "    states = []\n",
    "    current = f()  # mẫu posterior đầu tiên\n",
    "    for i in range(1, num_samp):\n",
    "        states.append(current)\n",
    "        movement = f() # mẫu posterior thứ hai\n",
    "        curr_prob = likelihood(current)\n",
    "        next_prob = likelihood(movement)\n",
    "        acceptance = min(next_prob/curr_prob, 1)\n",
    "        if acceptance > np.random.uniform(0, 1):\n",
    "            current = movement\n",
    "    return states\n",
    "```"
   ]
  },
  {
   "cell_type": "markdown",
   "metadata": {},
   "source": [
    "### b. Gibbs sampling <a name=\"22\"></a>\n",
    "\n",
    "Thuật toán *Metropolis* dùng *symmetric proposal*, điều này đồng nghĩa với MCMC chain có thể bị dậm chân tại chỗ tại một vị trí nào đó.  \n",
    "Ta cần một thuật toán MCMC cho phép *asymmetric proposal*, trong đó có *Metropolis Hasting*, là một pp tổng quát hơn.\n",
    "\n",
    "*Gibbs sampling* là một biến thể của *Metropolis Hasting*, cho phép proposal hiệu quả hơn.\n",
    "\n",
    "Trong thực hành, người ta dùng phần mềm như **BUGS** ( Bayesian inference Using Gibbs Sampling ) hoặc **JAGS** ( Just Another Gibbs Sampler ) để tự động hóa việc sampling.\n",
    "\n",
    "**Nhược điểm:**\n",
    "- Conjugate prior được dùng trong Gibbs sampling. Đôi khi ta không muốn dùng conjugate prior vì chúng không phù hợp.\n",
    "- Số lượng parameter quá lớn thì Gibbs sampling không chạy được."
   ]
  },
  {
   "cell_type": "markdown",
   "metadata": {},
   "source": [
    "### c. Hamiltonian Monte Carlo <a name=\"23\"></a>\n",
    "\n",
    "HMC là phương pháp hiện đại, dùng đạo hàm trong thuật toán,..  \n",
    "Và ngày càng nhiều pp HMC tân tiến hơn, như `NUTS` ( No-U-Turn Sampler ), `HMC2`,..\n",
    "\n",
    "**Ưu điểm:**\n",
    "- Xử lý được data với số lượng param cực lớn, có thể hàng chục nghìn param.\n",
    "\n",
    "**Nhược điểm:**\n",
    "- HMC không xử lý được parameter dạng biến rời rạc, do đó phải lồng ghép một phương pháp khác.\n",
    "- Có thể bị [divergent transition](https://mc-stan.org/docs/2_19/reference-manual/divergent-transitions)"
   ]
  },
  {
   "cell_type": "markdown",
   "metadata": {},
   "source": [
    "---\n",
    "## 3. Chẩn đoán cho chuỗi MCMC <a name=\"3\"></a>\n",
    "\n",
    "Một chuỗi MCMC tốt sẽ có trace plot ổn định ( stable ) và rank plot trộn đều ( well-mixing ).\n",
    "\n",
    "#### Ví dụ đây là một traceplot tốt (stable)\n",
    "<img src=\"https://jpreszler.rbind.io/post/2019-09-28-bad-traceplots_files/figure-html/unnamed-chunk-10-1.png\" width=50%>\n",
    "\n",
    "#### Còn đây là traceplot xấu\n",
    "<img src=\"https://jpreszler.rbind.io/post/2019-09-28-bad-traceplots_files/figure-html/unnamed-chunk-2-1.png\" width=50%>\n",
    "\n",
    "---\n",
    "\n",
    "#### Tương tự, đây là một rank plot tốt (well-mixing)\n",
    "<img src=\"https://pbs.twimg.com/media/EMI3Ve8WoAIAB7q?format=jpg&name=medium\" width=60%>\n",
    "\n",
    "#### Còn đây là rankplot xấu\n",
    "<img src=\"https://pbs.twimg.com/media/EMI166HWoAEz5Mg?format=png&name=900x900\" width=60%>"
   ]
  },
  {
   "cell_type": "markdown",
   "metadata": {},
   "source": [
    "## Hai hàm vẽ trace plot và rank plot đều có trong [arviz](https://arviz-devs.github.io/arviz/index.html) (python) và [rethinking](https://github.com/rmcelreath/rethinking) (R language)"
   ]
  },
  {
   "cell_type": "markdown",
   "metadata": {},
   "source": [
    "## Kết luận:\n",
    "Bài này giới thiệu cơ bản về MCMC, trong đó `NUTS` là công cụ hiện đại.  \n",
    "**Bạn không cần phải hiểu sâu các công cụ này, quan trọng nhất là kết quả của công cụ.**  \n",
    "MCMC đã chứng minh được sức mạnh của nó, với ngày này rất nhiều người dùng chúng.  \n",
    "Việc chẩn đoán kết quả MCMC cũng dễ dàng, thông qua *trace plot* và *rank plot*.  \n",
    "\n",
    "Hi vọng sau bài này, các bạn sẽ thấy rằng Bayes stats không khó, mà thực sự nó rất dễ sử dụng, hay hơn đống hỗn độn các test kiểm định ngoài kia."
   ]
  }
 ],
 "metadata": {
  "kernelspec": {
   "display_name": "Python 3",
   "language": "python",
   "name": "python3"
  },
  "language_info": {
   "codemirror_mode": {
    "name": "ipython",
    "version": 3
   },
   "file_extension": ".py",
   "mimetype": "text/x-python",
   "name": "python",
   "nbconvert_exporter": "python",
   "pygments_lexer": "ipython3",
   "version": "3.8.0"
  }
 },
 "nbformat": 4,
 "nbformat_minor": 4
}
